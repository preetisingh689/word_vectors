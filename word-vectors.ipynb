{
 "cells": [
  {
   "cell_type": "code",
   "execution_count": 1,
   "id": "suited-width",
   "metadata": {
    "execution": {
     "iopub.execute_input": "2021-06-24T16:40:16.571019Z",
     "iopub.status.busy": "2021-06-24T16:40:16.569440Z",
     "iopub.status.idle": "2021-06-24T16:40:18.543901Z",
     "shell.execute_reply": "2021-06-24T16:40:18.543125Z",
     "shell.execute_reply.started": "2021-06-24T16:31:42.525247Z"
    },
    "papermill": {
     "duration": 2.031788,
     "end_time": "2021-06-24T16:40:18.544073",
     "exception": false,
     "start_time": "2021-06-24T16:40:16.512285",
     "status": "completed"
    },
    "scrolled": true,
    "tags": []
   },
   "outputs": [],
   "source": [
    "import nltk\n",
    "from gensim.models import word2vec\n",
    "from gensim.models.word2vec import Word2Vec"
   ]
  },
  {
   "cell_type": "code",
   "execution_count": 2,
   "id": "banned-august",
   "metadata": {
    "execution": {
     "iopub.execute_input": "2021-06-24T16:40:18.657817Z",
     "iopub.status.busy": "2021-06-24T16:40:18.655553Z",
     "iopub.status.idle": "2021-06-24T16:40:18.661052Z",
     "shell.execute_reply": "2021-06-24T16:40:18.660492Z",
     "shell.execute_reply.started": "2021-06-24T16:31:42.603474Z"
    },
    "papermill": {
     "duration": 0.065435,
     "end_time": "2021-06-24T16:40:18.661236",
     "exception": false,
     "start_time": "2021-06-24T16:40:18.595801",
     "status": "completed"
    },
    "tags": []
   },
   "outputs": [],
   "source": [
    "import numpy as np\n",
    "import matplotlib.pyplot as plt\n",
    "import os"
   ]
  },
  {
   "cell_type": "markdown",
   "id": "cooked-tomorrow",
   "metadata": {
    "papermill": {
     "duration": 0.051898,
     "end_time": "2021-06-24T16:40:18.765128",
     "exception": false,
     "start_time": "2021-06-24T16:40:18.713230",
     "status": "completed"
    },
    "tags": []
   },
   "source": [
    "### Creating our sentences to train the word vectors"
   ]
  },
  {
   "cell_type": "code",
   "execution_count": 3,
   "id": "adapted-amplifier",
   "metadata": {
    "execution": {
     "iopub.execute_input": "2021-06-24T16:40:18.871546Z",
     "iopub.status.busy": "2021-06-24T16:40:18.870847Z",
     "iopub.status.idle": "2021-06-24T16:40:18.874329Z",
     "shell.execute_reply": "2021-06-24T16:40:18.874792Z",
     "shell.execute_reply.started": "2021-06-24T16:31:42.608525Z"
    },
    "papermill": {
     "duration": 0.057949,
     "end_time": "2021-06-24T16:40:18.874963",
     "exception": false,
     "start_time": "2021-06-24T16:40:18.817014",
     "status": "completed"
    },
    "tags": []
   },
   "outputs": [],
   "source": [
    "TextCorpus  = [\"I like Upgrad\",\n",
    "               \"Upgrad has a good ML program\",\n",
    "               \"Upgrad has good faculty\",\n",
    "               \"Rahim is that good faculty\",\n",
    "               \"I like ML\"\n",
    "]"
   ]
  },
  {
   "cell_type": "code",
   "execution_count": 4,
   "id": "imported-satisfaction",
   "metadata": {
    "execution": {
     "iopub.execute_input": "2021-06-24T16:40:18.984569Z",
     "iopub.status.busy": "2021-06-24T16:40:18.979814Z",
     "iopub.status.idle": "2021-06-24T16:40:18.989009Z",
     "shell.execute_reply": "2021-06-24T16:40:18.988514Z",
     "shell.execute_reply.started": "2021-06-24T16:31:42.643785Z"
    },
    "papermill": {
     "duration": 0.062968,
     "end_time": "2021-06-24T16:40:18.989153",
     "exception": false,
     "start_time": "2021-06-24T16:40:18.926185",
     "status": "completed"
    },
    "tags": []
   },
   "outputs": [
    {
     "data": {
      "text/plain": [
       "[['I', 'like', 'Upgrad'], ['Upgrad', 'has', 'a', 'good', 'ML', 'program']]"
      ]
     },
     "execution_count": 4,
     "metadata": {},
     "output_type": "execute_result"
    }
   ],
   "source": [
    "text_tokens = [sent.split() for sent in TextCorpus]\n",
    "text_tokens[:2]"
   ]
  },
  {
   "cell_type": "markdown",
   "id": "civilian-howard",
   "metadata": {
    "papermill": {
     "duration": 0.064491,
     "end_time": "2021-06-24T16:40:19.106478",
     "exception": false,
     "start_time": "2021-06-24T16:40:19.041987",
     "status": "completed"
    },
    "tags": []
   },
   "source": [
    "#### Training the word vectors"
   ]
  },
  {
   "cell_type": "code",
   "execution_count": 5,
   "id": "victorian-monkey",
   "metadata": {
    "execution": {
     "iopub.execute_input": "2021-06-24T16:40:19.231101Z",
     "iopub.status.busy": "2021-06-24T16:40:19.230474Z",
     "iopub.status.idle": "2021-06-24T16:40:19.251284Z",
     "shell.execute_reply": "2021-06-24T16:40:19.250722Z",
     "shell.execute_reply.started": "2021-06-24T16:31:42.653995Z"
    },
    "papermill": {
     "duration": 0.075809,
     "end_time": "2021-06-24T16:40:19.251437",
     "exception": false,
     "start_time": "2021-06-24T16:40:19.175628",
     "status": "completed"
    },
    "tags": []
   },
   "outputs": [],
   "source": [
    "model = Word2Vec(text_tokens,min_count=1)"
   ]
  },
  {
   "cell_type": "code",
   "execution_count": 6,
   "id": "ahead-benjamin",
   "metadata": {
    "execution": {
     "iopub.execute_input": "2021-06-24T16:40:19.362318Z",
     "iopub.status.busy": "2021-06-24T16:40:19.361627Z",
     "iopub.status.idle": "2021-06-24T16:40:19.364657Z",
     "shell.execute_reply": "2021-06-24T16:40:19.365246Z",
     "shell.execute_reply.started": "2021-06-24T16:31:42.672260Z"
    },
    "papermill": {
     "duration": 0.061859,
     "end_time": "2021-06-24T16:40:19.365437",
     "exception": false,
     "start_time": "2021-06-24T16:40:19.303578",
     "status": "completed"
    },
    "tags": []
   },
   "outputs": [
    {
     "data": {
      "text/plain": [
       "array([-8.2426788e-03,  9.2993546e-03, -1.9766092e-04, -1.9672776e-03,\n",
       "        4.6036290e-03, -4.0953159e-03,  2.7431131e-03,  6.9399667e-03,\n",
       "        6.0654259e-03, -7.5107957e-03,  9.3823504e-03,  4.6718074e-03,\n",
       "        3.9661191e-03, -6.2435055e-03,  8.4599778e-03, -2.1501661e-03,\n",
       "        8.8251876e-03, -5.3620026e-03, -8.1294207e-03,  6.8245577e-03,\n",
       "        1.6711927e-03, -2.1985101e-03,  9.5135998e-03,  9.4938539e-03,\n",
       "       -9.7740479e-03,  2.5052286e-03,  6.1566923e-03,  3.8724565e-03,\n",
       "        2.0227861e-03,  4.3050051e-04,  6.7363022e-04, -3.8206363e-03,\n",
       "       -7.1402504e-03, -2.0888734e-03,  3.9238976e-03,  8.8186832e-03,\n",
       "        9.2591504e-03, -5.9759379e-03, -9.4026709e-03,  9.7643761e-03,\n",
       "        3.4297847e-03,  5.1661157e-03,  6.2823440e-03, -2.8042626e-03,\n",
       "        7.3227026e-03,  2.8302716e-03,  2.8710032e-03, -2.3803711e-03,\n",
       "       -3.1282497e-03, -2.3701428e-03,  4.2764354e-03,  7.6057913e-05,\n",
       "       -9.5842788e-03, -9.6655441e-03, -6.1481954e-03, -1.2856961e-04,\n",
       "        1.9974159e-03,  9.4319675e-03,  5.5843499e-03, -4.2906976e-03,\n",
       "        2.7831554e-04,  4.9643586e-03,  7.6983096e-03, -1.1442233e-03,\n",
       "        4.3234206e-03, -5.8143805e-03, -8.0419064e-04,  8.1000496e-03,\n",
       "       -2.3600650e-03, -9.6634552e-03,  5.7792594e-03, -3.9298222e-03,\n",
       "       -1.2228728e-03,  9.9805165e-03, -2.2563506e-03, -4.7570658e-03,\n",
       "       -5.3293873e-03,  6.9808890e-03, -5.7088733e-03,  2.1136617e-03,\n",
       "       -5.2556610e-03,  6.1207130e-03,  4.3573068e-03,  2.6063537e-03,\n",
       "       -1.4910841e-03, -2.7460647e-03,  8.9929365e-03,  5.2157734e-03,\n",
       "       -2.1625208e-03, -9.4703101e-03, -7.4260519e-03, -1.0637427e-03,\n",
       "       -7.9494715e-04, -2.5629092e-03,  9.6827196e-03, -4.5852186e-04,\n",
       "        5.8737611e-03, -7.4475883e-03, -2.5060750e-03, -5.5498648e-03],\n",
       "      dtype=float32)"
      ]
     },
     "execution_count": 6,
     "metadata": {},
     "output_type": "execute_result"
    }
   ],
   "source": [
    "model.wv['ML']"
   ]
  },
  {
   "cell_type": "code",
   "execution_count": 7,
   "id": "retained-hughes",
   "metadata": {
    "execution": {
     "iopub.execute_input": "2021-06-24T16:40:19.472625Z",
     "iopub.status.busy": "2021-06-24T16:40:19.471960Z",
     "iopub.status.idle": "2021-06-24T16:40:19.478866Z",
     "shell.execute_reply": "2021-06-24T16:40:19.478322Z",
     "shell.execute_reply.started": "2021-06-24T16:31:42.681165Z"
    },
    "papermill": {
     "duration": 0.061471,
     "end_time": "2021-06-24T16:40:19.479011",
     "exception": false,
     "start_time": "2021-06-24T16:40:19.417540",
     "status": "completed"
    },
    "tags": []
   },
   "outputs": [
    {
     "data": {
      "text/plain": [
       "100"
      ]
     },
     "execution_count": 7,
     "metadata": {},
     "output_type": "execute_result"
    }
   ],
   "source": [
    "len(model.wv['ML'])"
   ]
  },
  {
   "cell_type": "markdown",
   "id": "cognitive-train",
   "metadata": {
    "papermill": {
     "duration": 0.052131,
     "end_time": "2021-06-24T16:40:19.583249",
     "exception": false,
     "start_time": "2021-06-24T16:40:19.531118",
     "status": "completed"
    },
    "tags": []
   },
   "source": [
    "Similarity between word vectors is measures using Cosine similarity"
   ]
  },
  {
   "cell_type": "code",
   "execution_count": 8,
   "id": "laden-richardson",
   "metadata": {
    "execution": {
     "iopub.execute_input": "2021-06-24T16:40:19.692947Z",
     "iopub.status.busy": "2021-06-24T16:40:19.692160Z",
     "iopub.status.idle": "2021-06-24T16:40:19.698348Z",
     "shell.execute_reply": "2021-06-24T16:40:19.698926Z",
     "shell.execute_reply.started": "2021-06-24T16:31:42.690678Z"
    },
    "papermill": {
     "duration": 0.06383,
     "end_time": "2021-06-24T16:40:19.699098",
     "exception": false,
     "start_time": "2021-06-24T16:40:19.635268",
     "status": "completed"
    },
    "tags": []
   },
   "outputs": [
    {
     "data": {
      "text/plain": [
       "[('is', 0.19907982647418976),\n",
       " ('a', 0.172726109623909),\n",
       " ('has', 0.17043034732341766),\n",
       " ('I', 0.14594726264476776),\n",
       " ('like', 0.06410521268844604)]"
      ]
     },
     "execution_count": 8,
     "metadata": {},
     "output_type": "execute_result"
    }
   ],
   "source": [
    "model.wv.most_similar(\"faculty\",topn=5)"
   ]
  },
  {
   "cell_type": "markdown",
   "id": "published-activation",
   "metadata": {
    "papermill": {
     "duration": 0.052173,
     "end_time": "2021-06-24T16:40:19.803948",
     "exception": false,
     "start_time": "2021-06-24T16:40:19.751775",
     "status": "completed"
    },
    "tags": []
   },
   "source": [
    "### Training our word vectors on the text8 corpus\n",
    "Cleaned Wikipedia text, compressed to 100MB"
   ]
  },
  {
   "cell_type": "markdown",
   "id": "immediate-mixer",
   "metadata": {
    "papermill": {
     "duration": 0.053223,
     "end_time": "2021-06-24T16:40:19.909737",
     "exception": false,
     "start_time": "2021-06-24T16:40:19.856514",
     "status": "completed"
    },
    "tags": []
   },
   "source": [
    "#### Importing the raw text file"
   ]
  },
  {
   "cell_type": "code",
   "execution_count": 9,
   "id": "furnished-reproduction",
   "metadata": {
    "execution": {
     "iopub.execute_input": "2021-06-24T16:40:20.018646Z",
     "iopub.status.busy": "2021-06-24T16:40:20.017929Z",
     "iopub.status.idle": "2021-06-24T16:40:20.022844Z",
     "shell.execute_reply": "2021-06-24T16:40:20.022325Z",
     "shell.execute_reply.started": "2021-06-24T16:31:42.700727Z"
    },
    "papermill": {
     "duration": 0.0604,
     "end_time": "2021-06-24T16:40:20.022994",
     "exception": false,
     "start_time": "2021-06-24T16:40:19.962594",
     "status": "completed"
    },
    "tags": []
   },
   "outputs": [],
   "source": [
    "sentences = word2vec.Text8Corpus('../input/text8-sample/text8')"
   ]
  },
  {
   "cell_type": "code",
   "execution_count": 10,
   "id": "modern-juvenile",
   "metadata": {
    "execution": {
     "iopub.execute_input": "2021-06-24T16:40:20.136191Z",
     "iopub.status.busy": "2021-06-24T16:40:20.135518Z",
     "iopub.status.idle": "2021-06-24T16:40:20.138123Z",
     "shell.execute_reply": "2021-06-24T16:40:20.138632Z",
     "shell.execute_reply.started": "2021-06-24T16:31:42.707946Z"
    },
    "papermill": {
     "duration": 0.06307,
     "end_time": "2021-06-24T16:40:20.138809",
     "exception": false,
     "start_time": "2021-06-24T16:40:20.075739",
     "status": "completed"
    },
    "tags": []
   },
   "outputs": [
    {
     "data": {
      "text/plain": [
       "gensim.models.word2vec.Text8Corpus"
      ]
     },
     "execution_count": 10,
     "metadata": {},
     "output_type": "execute_result"
    }
   ],
   "source": [
    "type(sentences)"
   ]
  },
  {
   "cell_type": "markdown",
   "id": "union-madison",
   "metadata": {
    "papermill": {
     "duration": 0.053921,
     "end_time": "2021-06-24T16:40:20.246790",
     "exception": false,
     "start_time": "2021-06-24T16:40:20.192869",
     "status": "completed"
    },
    "tags": []
   },
   "source": [
    "#### Using all default parameters"
   ]
  },
  {
   "cell_type": "code",
   "execution_count": 11,
   "id": "metric-faculty",
   "metadata": {
    "execution": {
     "iopub.execute_input": "2021-06-24T16:40:20.355158Z",
     "iopub.status.busy": "2021-06-24T16:40:20.354541Z",
     "iopub.status.idle": "2021-06-24T16:42:01.378157Z",
     "shell.execute_reply": "2021-06-24T16:42:01.377447Z",
     "shell.execute_reply.started": "2021-06-24T16:31:42.717563Z"
    },
    "papermill": {
     "duration": 101.078964,
     "end_time": "2021-06-24T16:42:01.378328",
     "exception": false,
     "start_time": "2021-06-24T16:40:20.299364",
     "status": "completed"
    },
    "scrolled": true,
    "tags": []
   },
   "outputs": [],
   "source": [
    "model = Word2Vec(sentences)"
   ]
  },
  {
   "cell_type": "code",
   "execution_count": 12,
   "id": "pressing-surrey",
   "metadata": {
    "execution": {
     "iopub.execute_input": "2021-06-24T16:42:01.488618Z",
     "iopub.status.busy": "2021-06-24T16:42:01.487923Z",
     "iopub.status.idle": "2021-06-24T16:42:01.517702Z",
     "shell.execute_reply": "2021-06-24T16:42:01.518529Z",
     "shell.execute_reply.started": "2021-06-24T16:33:03.736940Z"
    },
    "papermill": {
     "duration": 0.086635,
     "end_time": "2021-06-24T16:42:01.518808",
     "exception": false,
     "start_time": "2021-06-24T16:42:01.432173",
     "status": "completed"
    },
    "tags": []
   },
   "outputs": [
    {
     "data": {
      "text/plain": [
       "[('humanity', 0.7954029440879822),\n",
       " ('pleasure', 0.7496376633644104),\n",
       " ('dignity', 0.746587872505188),\n",
       " ('goodness', 0.7357755899429321),\n",
       " ('righteousness', 0.7305711507797241),\n",
       " ('desires', 0.7213945984840393),\n",
       " ('compassion', 0.7144131660461426),\n",
       " ('mankind', 0.7129766345024109),\n",
       " ('salvation', 0.7025062441825867),\n",
       " ('perfection', 0.6972480416297913)]"
      ]
     },
     "execution_count": 12,
     "metadata": {},
     "output_type": "execute_result"
    }
   ],
   "source": [
    "model.wv.most_similar(\"happiness\")"
   ]
  },
  {
   "cell_type": "code",
   "execution_count": 13,
   "id": "attended-edinburgh",
   "metadata": {
    "execution": {
     "iopub.execute_input": "2021-06-24T16:42:01.678990Z",
     "iopub.status.busy": "2021-06-24T16:42:01.677861Z",
     "iopub.status.idle": "2021-06-24T16:42:01.689149Z",
     "shell.execute_reply": "2021-06-24T16:42:01.690119Z",
     "shell.execute_reply.started": "2021-06-24T16:33:03.767220Z"
    },
    "papermill": {
     "duration": 0.076611,
     "end_time": "2021-06-24T16:42:01.690405",
     "exception": false,
     "start_time": "2021-06-24T16:42:01.613794",
     "status": "completed"
    },
    "scrolled": true,
    "tags": []
   },
   "outputs": [
    {
     "data": {
      "text/plain": [
       "[('princess', 0.7772502303123474),\n",
       " ('elizabeth', 0.7542471289634705),\n",
       " ('prince', 0.7161729335784912),\n",
       " ('king', 0.7075952291488647),\n",
       " ('crown', 0.6524338722229004),\n",
       " ('duchess', 0.649865984916687),\n",
       " ('mary', 0.6484864950180054),\n",
       " ('consort', 0.6458181142807007),\n",
       " ('victoria', 0.6295428276062012),\n",
       " ('bride', 0.6218289136886597)]"
      ]
     },
     "execution_count": 13,
     "metadata": {},
     "output_type": "execute_result"
    }
   ],
   "source": [
    "model.wv.most_similar(\"queen\")"
   ]
  },
  {
   "cell_type": "markdown",
   "id": "upset-prefix",
   "metadata": {
    "papermill": {
     "duration": 0.059359,
     "end_time": "2021-06-24T16:42:01.844706",
     "exception": false,
     "start_time": "2021-06-24T16:42:01.785347",
     "status": "completed"
    },
    "tags": []
   },
   "source": [
    " "
   ]
  },
  {
   "cell_type": "markdown",
   "id": "intellectual-hostel",
   "metadata": {
    "papermill": {
     "duration": 0.052944,
     "end_time": "2021-06-24T16:42:01.951135",
     "exception": false,
     "start_time": "2021-06-24T16:42:01.898191",
     "status": "completed"
    },
    "tags": []
   },
   "source": [
    " "
   ]
  },
  {
   "cell_type": "markdown",
   "id": "fundamental-robinson",
   "metadata": {
    "papermill": {
     "duration": 0.053181,
     "end_time": "2021-06-24T16:42:02.057817",
     "exception": false,
     "start_time": "2021-06-24T16:42:02.004636",
     "status": "completed"
    },
    "tags": []
   },
   "source": [
    " "
   ]
  },
  {
   "cell_type": "markdown",
   "id": "soviet-warehouse",
   "metadata": {
    "papermill": {
     "duration": 0.054934,
     "end_time": "2021-06-24T16:42:02.168109",
     "exception": false,
     "start_time": "2021-06-24T16:42:02.113175",
     "status": "completed"
    },
    "tags": []
   },
   "source": [
    " "
   ]
  },
  {
   "cell_type": "markdown",
   "id": "accomplished-serve",
   "metadata": {
    "papermill": {
     "duration": 0.053714,
     "end_time": "2021-06-24T16:42:02.275761",
     "exception": false,
     "start_time": "2021-06-24T16:42:02.222047",
     "status": "completed"
    },
    "tags": []
   },
   "source": [
    " "
   ]
  },
  {
   "cell_type": "markdown",
   "id": "metallic-attitude",
   "metadata": {
    "papermill": {
     "duration": 0.05304,
     "end_time": "2021-06-24T16:42:02.382232",
     "exception": false,
     "start_time": "2021-06-24T16:42:02.329192",
     "status": "completed"
    },
    "tags": []
   },
   "source": [
    " "
   ]
  },
  {
   "cell_type": "markdown",
   "id": "assigned-combat",
   "metadata": {
    "papermill": {
     "duration": 0.053025,
     "end_time": "2021-06-24T16:42:02.488502",
     "exception": false,
     "start_time": "2021-06-24T16:42:02.435477",
     "status": "completed"
    },
    "tags": []
   },
   "source": [
    " "
   ]
  },
  {
   "cell_type": "markdown",
   "id": "ahead-jaguar",
   "metadata": {
    "papermill": {
     "duration": 0.052681,
     "end_time": "2021-06-24T16:42:02.594650",
     "exception": false,
     "start_time": "2021-06-24T16:42:02.541969",
     "status": "completed"
    },
    "tags": []
   },
   "source": [
    " "
   ]
  },
  {
   "cell_type": "markdown",
   "id": "adopted-service",
   "metadata": {
    "papermill": {
     "duration": 0.052727,
     "end_time": "2021-06-24T16:42:02.700768",
     "exception": false,
     "start_time": "2021-06-24T16:42:02.648041",
     "status": "completed"
    },
    "tags": []
   },
   "source": [
    "#### Semantic regularities captured in word embeddings"
   ]
  },
  {
   "cell_type": "code",
   "execution_count": 14,
   "id": "duplicate-investor",
   "metadata": {
    "execution": {
     "iopub.execute_input": "2021-06-24T16:42:02.815350Z",
     "iopub.status.busy": "2021-06-24T16:42:02.814280Z",
     "iopub.status.idle": "2021-06-24T16:42:02.825313Z",
     "shell.execute_reply": "2021-06-24T16:42:02.826147Z",
     "shell.execute_reply.started": "2021-06-24T16:33:03.782945Z"
    },
    "papermill": {
     "duration": 0.072378,
     "end_time": "2021-06-24T16:42:02.826433",
     "exception": false,
     "start_time": "2021-06-24T16:42:02.754055",
     "status": "completed"
    },
    "tags": []
   },
   "outputs": [
    {
     "data": {
      "text/plain": [
       "[('queen', 0.6836856603622437),\n",
       " ('emperor', 0.6158390045166016),\n",
       " ('princess', 0.6101940274238586),\n",
       " ('empress', 0.6033835411071777),\n",
       " ('throne', 0.6030214428901672)]"
      ]
     },
     "execution_count": 14,
     "metadata": {},
     "output_type": "execute_result"
    }
   ],
   "source": [
    "model.wv.most_similar(positive=['woman', 'king'], negative=['man'], topn=5)"
   ]
  },
  {
   "cell_type": "code",
   "execution_count": 15,
   "id": "automotive-coast",
   "metadata": {
    "execution": {
     "iopub.execute_input": "2021-06-24T16:42:02.989085Z",
     "iopub.status.busy": "2021-06-24T16:42:02.987946Z",
     "iopub.status.idle": "2021-06-24T16:42:02.998056Z",
     "shell.execute_reply": "2021-06-24T16:42:02.999049Z",
     "shell.execute_reply.started": "2021-06-24T16:33:03.799354Z"
    },
    "papermill": {
     "duration": 0.076299,
     "end_time": "2021-06-24T16:42:02.999335",
     "exception": false,
     "start_time": "2021-06-24T16:42:02.923036",
     "status": "completed"
    },
    "tags": []
   },
   "outputs": [
    {
     "data": {
      "text/plain": [
       "[('heroine', 0.699384331703186),\n",
       " ('idol', 0.6367623209953308),\n",
       " ('legendary', 0.616586446762085),\n",
       " ('protagonist', 0.6051203012466431),\n",
       " ('heroic', 0.5884642601013184)]"
      ]
     },
     "execution_count": 15,
     "metadata": {},
     "output_type": "execute_result"
    }
   ],
   "source": [
    "model.wv.most_similar(positive=['woman', 'hero'], negative=['man'], topn=5)"
   ]
  },
  {
   "cell_type": "markdown",
   "id": "relevant-master",
   "metadata": {
    "papermill": {
     "duration": 0.057566,
     "end_time": "2021-06-24T16:42:03.156127",
     "exception": false,
     "start_time": "2021-06-24T16:42:03.098561",
     "status": "completed"
    },
    "tags": []
   },
   "source": [
    "### Visualizing these word vectors"
   ]
  },
  {
   "cell_type": "code",
   "execution_count": 16,
   "id": "multiple-publisher",
   "metadata": {
    "execution": {
     "iopub.execute_input": "2021-06-24T16:42:03.328905Z",
     "iopub.status.busy": "2021-06-24T16:42:03.292486Z",
     "iopub.status.idle": "2021-06-24T16:42:03.554139Z",
     "shell.execute_reply": "2021-06-24T16:42:03.553545Z",
     "shell.execute_reply.started": "2021-06-24T16:34:41.940626Z"
    },
    "papermill": {
     "duration": 0.342373,
     "end_time": "2021-06-24T16:42:03.554313",
     "exception": false,
     "start_time": "2021-06-24T16:42:03.211940",
     "status": "completed"
    },
    "tags": []
   },
   "outputs": [],
   "source": [
    "X = model.wv[model.wv.index_to_key]"
   ]
  },
  {
   "cell_type": "markdown",
   "id": "comfortable-builder",
   "metadata": {
    "papermill": {
     "duration": 0.055305,
     "end_time": "2021-06-24T16:42:03.663767",
     "exception": false,
     "start_time": "2021-06-24T16:42:03.608462",
     "status": "completed"
    },
    "tags": []
   },
   "source": [
    "##### We'll use PCA to reduce and visualize in 2 dimensions"
   ]
  },
  {
   "cell_type": "code",
   "execution_count": 17,
   "id": "hungry-posting",
   "metadata": {
    "execution": {
     "iopub.execute_input": "2021-06-24T16:42:03.777848Z",
     "iopub.status.busy": "2021-06-24T16:42:03.777128Z",
     "iopub.status.idle": "2021-06-24T16:42:03.815730Z",
     "shell.execute_reply": "2021-06-24T16:42:03.815051Z",
     "shell.execute_reply.started": "2021-06-24T16:34:42.219778Z"
    },
    "papermill": {
     "duration": 0.097155,
     "end_time": "2021-06-24T16:42:03.815869",
     "exception": false,
     "start_time": "2021-06-24T16:42:03.718714",
     "status": "completed"
    },
    "tags": []
   },
   "outputs": [],
   "source": [
    "from sklearn.decomposition import PCA"
   ]
  },
  {
   "cell_type": "code",
   "execution_count": 18,
   "id": "answering-intake",
   "metadata": {
    "execution": {
     "iopub.execute_input": "2021-06-24T16:42:03.930238Z",
     "iopub.status.busy": "2021-06-24T16:42:03.929490Z",
     "iopub.status.idle": "2021-06-24T16:42:04.454048Z",
     "shell.execute_reply": "2021-06-24T16:42:04.455449Z",
     "shell.execute_reply.started": "2021-06-24T16:34:42.253518Z"
    },
    "papermill": {
     "duration": 0.584848,
     "end_time": "2021-06-24T16:42:04.455723",
     "exception": false,
     "start_time": "2021-06-24T16:42:03.870875",
     "status": "completed"
    },
    "tags": []
   },
   "outputs": [],
   "source": [
    "pca = PCA(n_components=2)\n",
    "result = pca.fit_transform(X)"
   ]
  },
  {
   "cell_type": "markdown",
   "id": "universal-opening",
   "metadata": {
    "papermill": {
     "duration": 0.053612,
     "end_time": "2021-06-24T16:42:04.583043",
     "exception": false,
     "start_time": "2021-06-24T16:42:04.529431",
     "status": "completed"
    },
    "tags": []
   },
   "source": [
    "Randomly select 100 words"
   ]
  },
  {
   "cell_type": "code",
   "execution_count": 19,
   "id": "delayed-portsmouth",
   "metadata": {
    "execution": {
     "iopub.execute_input": "2021-06-24T16:42:04.697275Z",
     "iopub.status.busy": "2021-06-24T16:42:04.696318Z",
     "iopub.status.idle": "2021-06-24T16:42:04.699497Z",
     "shell.execute_reply": "2021-06-24T16:42:04.698873Z",
     "shell.execute_reply.started": "2021-06-24T16:34:42.815221Z"
    },
    "papermill": {
     "duration": 0.06264,
     "end_time": "2021-06-24T16:42:04.699643",
     "exception": false,
     "start_time": "2021-06-24T16:42:04.637003",
     "status": "completed"
    },
    "tags": []
   },
   "outputs": [],
   "source": [
    "import random\n",
    "random.seed(2)"
   ]
  },
  {
   "cell_type": "code",
   "execution_count": 20,
   "id": "prompt-electron",
   "metadata": {
    "execution": {
     "iopub.execute_input": "2021-06-24T16:42:04.817668Z",
     "iopub.status.busy": "2021-06-24T16:42:04.816695Z",
     "iopub.status.idle": "2021-06-24T16:42:04.819948Z",
     "shell.execute_reply": "2021-06-24T16:42:04.819464Z",
     "shell.execute_reply.started": "2021-06-24T16:35:10.044772Z"
    },
    "papermill": {
     "duration": 0.066305,
     "end_time": "2021-06-24T16:42:04.820100",
     "exception": false,
     "start_time": "2021-06-24T16:42:04.753795",
     "status": "completed"
    },
    "scrolled": true,
    "tags": []
   },
   "outputs": [],
   "source": [
    "ind = random.sample(range(0,len(X)),100)\n",
    "result_random = result[ind]\n",
    "all_words = list(model.wv.index_to_key)\n",
    "words = [all_words[i] for i in ind]"
   ]
  },
  {
   "cell_type": "code",
   "execution_count": 21,
   "id": "dense-muslim",
   "metadata": {
    "execution": {
     "iopub.execute_input": "2021-06-24T16:42:04.953153Z",
     "iopub.status.busy": "2021-06-24T16:42:04.952506Z",
     "iopub.status.idle": "2021-06-24T16:42:05.779626Z",
     "shell.execute_reply": "2021-06-24T16:42:05.779090Z",
     "shell.execute_reply.started": "2021-06-24T16:35:10.056021Z"
    },
    "papermill": {
     "duration": 0.905476,
     "end_time": "2021-06-24T16:42:05.779772",
     "exception": false,
     "start_time": "2021-06-24T16:42:04.874296",
     "status": "completed"
    },
    "tags": []
   },
   "outputs": [
    {
     "data": {
      "image/png": "[encoded data removed]",
      "text/plain": [
       "<Figure size 864x864 with 1 Axes>"
      ]
     },
     "metadata": {
      "needs_background": "light"
     },
     "output_type": "display_data"
    }
   ],
   "source": [
    "plt.figure(figsize=(12,12))\n",
    "plt.scatter(result_random[:,0], result_random[:,1])\n",
    "for i, word in enumerate(words):\n",
    "    plt.annotate(word, xy=(result_random[i, 0], result_random[i, 1]))\n",
    "plt.show()"
   ]
  },
  {
   "cell_type": "markdown",
   "id": "constitutional-cassette",
   "metadata": {
    "papermill": {
     "duration": 0.055296,
     "end_time": "2021-06-24T16:42:05.892933",
     "exception": false,
     "start_time": "2021-06-24T16:42:05.837637",
     "status": "completed"
    },
    "tags": []
   },
   "source": [
    "## Effect of vector dimension"
   ]
  },
  {
   "cell_type": "markdown",
   "id": "abandoned-holiday",
   "metadata": {
    "papermill": {
     "duration": 0.055526,
     "end_time": "2021-06-24T16:42:06.004503",
     "exception": false,
     "start_time": "2021-06-24T16:42:05.948977",
     "status": "completed"
    },
    "tags": []
   },
   "source": [
    "#### Reducing the length to 50"
   ]
  },
  {
   "cell_type": "code",
   "execution_count": 22,
   "id": "dirty-robin",
   "metadata": {
    "execution": {
     "iopub.execute_input": "2021-06-24T16:42:06.125359Z",
     "iopub.status.busy": "2021-06-24T16:42:06.124694Z",
     "iopub.status.idle": "2021-06-24T16:43:47.376309Z",
     "shell.execute_reply": "2021-06-24T16:43:47.376911Z",
     "shell.execute_reply.started": "2021-06-24T16:38:01.134848Z"
    },
    "papermill": {
     "duration": 101.314231,
     "end_time": "2021-06-24T16:43:47.377135",
     "exception": false,
     "start_time": "2021-06-24T16:42:06.062904",
     "status": "completed"
    },
    "tags": []
   },
   "outputs": [],
   "source": [
    "model = Word2Vec(sentences, vector_size=50)"
   ]
  },
  {
   "cell_type": "code",
   "execution_count": 23,
   "id": "inner-renewal",
   "metadata": {
    "execution": {
     "iopub.execute_input": "2021-06-24T16:43:47.494904Z",
     "iopub.status.busy": "2021-06-24T16:43:47.494268Z",
     "iopub.status.idle": "2021-06-24T16:43:47.520182Z",
     "shell.execute_reply": "2021-06-24T16:43:47.519230Z",
     "shell.execute_reply.started": "2021-06-24T16:39:22.432507Z"
    },
    "papermill": {
     "duration": 0.085698,
     "end_time": "2021-06-24T16:43:47.520461",
     "exception": false,
     "start_time": "2021-06-24T16:43:47.434763",
     "status": "completed"
    },
    "tags": []
   },
   "outputs": [
    {
     "data": {
      "text/plain": [
       "[('profits', 0.7889482378959656),\n",
       " ('payment', 0.7701767683029175),\n",
       " ('funds', 0.7520115971565247),\n",
       " ('credit', 0.7499721646308899),\n",
       " ('pay', 0.7497287392616272),\n",
       " ('payments', 0.7496522068977356),\n",
       " ('debts', 0.7407659888267517),\n",
       " ('buying', 0.7335979342460632),\n",
       " ('tax', 0.7309820055961609),\n",
       " ('demand', 0.7272665500640869)]"
      ]
     },
     "execution_count": 23,
     "metadata": {},
     "output_type": "execute_result"
    }
   ],
   "source": [
    "model.wv.most_similar(\"money\")"
   ]
  },
  {
   "cell_type": "code",
   "execution_count": 24,
   "id": "decreased-fleece",
   "metadata": {
    "execution": {
     "iopub.execute_input": "2021-06-24T16:43:47.691862Z",
     "iopub.status.busy": "2021-06-24T16:43:47.690806Z",
     "iopub.status.idle": "2021-06-24T16:43:47.700834Z",
     "shell.execute_reply": "2021-06-24T16:43:47.701837Z",
     "shell.execute_reply.started": "2021-06-24T16:39:22.454977Z"
    },
    "papermill": {
     "duration": 0.073541,
     "end_time": "2021-06-24T16:43:47.702107",
     "exception": false,
     "start_time": "2021-06-24T16:43:47.628566",
     "status": "completed"
    },
    "tags": []
   },
   "outputs": [
    {
     "data": {
      "text/plain": [
       "[('elizabeth', 0.823495626449585),\n",
       " ('princess', 0.8188961744308472),\n",
       " ('king', 0.7925217747688293),\n",
       " ('prince', 0.7804260849952698),\n",
       " ('lord', 0.7435740232467651)]"
      ]
     },
     "execution_count": 24,
     "metadata": {},
     "output_type": "execute_result"
    }
   ],
   "source": [
    "model.wv.most_similar(\"queen\", topn=5)"
   ]
  },
  {
   "cell_type": "code",
   "execution_count": 25,
   "id": "included-break",
   "metadata": {
    "execution": {
     "iopub.execute_input": "2021-06-24T16:43:47.871580Z",
     "iopub.status.busy": "2021-06-24T16:43:47.870553Z",
     "iopub.status.idle": "2021-06-24T16:43:47.878089Z",
     "shell.execute_reply": "2021-06-24T16:43:47.879091Z",
     "shell.execute_reply.started": "2021-06-24T16:39:22.465188Z"
    },
    "papermill": {
     "duration": 0.074027,
     "end_time": "2021-06-24T16:43:47.879378",
     "exception": false,
     "start_time": "2021-06-24T16:43:47.805351",
     "status": "completed"
    },
    "scrolled": true,
    "tags": []
   },
   "outputs": [
    {
     "data": {
      "text/plain": [
       "[('empress', 0.7587097883224487),\n",
       " ('queen', 0.7537899613380432),\n",
       " ('prince', 0.7216415405273438),\n",
       " ('emperor', 0.7210248708724976),\n",
       " ('princess', 0.7119079232215881)]"
      ]
     },
     "execution_count": 25,
     "metadata": {},
     "output_type": "execute_result"
    }
   ],
   "source": [
    "model.wv.most_similar(positive=['woman', 'king'], negative=['man'], topn=5)"
   ]
  },
  {
   "cell_type": "markdown",
   "id": "objective-lesbian",
   "metadata": {
    "papermill": {
     "duration": 0.061424,
     "end_time": "2021-06-24T16:43:48.042624",
     "exception": false,
     "start_time": "2021-06-24T16:43:47.981200",
     "status": "completed"
    },
    "tags": []
   },
   "source": [
    " "
   ]
  },
  {
   "cell_type": "markdown",
   "id": "dominant-ordering",
   "metadata": {
    "papermill": {
     "duration": 0.068541,
     "end_time": "2021-06-24T16:43:48.185316",
     "exception": false,
     "start_time": "2021-06-24T16:43:48.116775",
     "status": "completed"
    },
    "tags": []
   },
   "source": [
    " "
   ]
  },
  {
   "cell_type": "markdown",
   "id": "brown-carbon",
   "metadata": {
    "papermill": {
     "duration": 0.058375,
     "end_time": "2021-06-24T16:43:48.303981",
     "exception": false,
     "start_time": "2021-06-24T16:43:48.245606",
     "status": "completed"
    },
    "tags": []
   },
   "source": [
    " "
   ]
  },
  {
   "cell_type": "markdown",
   "id": "turned-ceremony",
   "metadata": {
    "papermill": {
     "duration": 0.05729,
     "end_time": "2021-06-24T16:43:48.418670",
     "exception": false,
     "start_time": "2021-06-24T16:43:48.361380",
     "status": "completed"
    },
    "tags": []
   },
   "source": [
    " "
   ]
  },
  {
   "cell_type": "markdown",
   "id": "weird-trinity",
   "metadata": {
    "papermill": {
     "duration": 0.057269,
     "end_time": "2021-06-24T16:43:48.533412",
     "exception": false,
     "start_time": "2021-06-24T16:43:48.476143",
     "status": "completed"
    },
    "tags": []
   },
   "source": [
    " "
   ]
  },
  {
   "cell_type": "markdown",
   "id": "average-religion",
   "metadata": {
    "papermill": {
     "duration": 0.057407,
     "end_time": "2021-06-24T16:43:48.648310",
     "exception": false,
     "start_time": "2021-06-24T16:43:48.590903",
     "status": "completed"
    },
    "tags": []
   },
   "source": [
    " "
   ]
  },
  {
   "cell_type": "markdown",
   "id": "robust-jungle",
   "metadata": {
    "papermill": {
     "duration": 0.057011,
     "end_time": "2021-06-24T16:43:48.762852",
     "exception": false,
     "start_time": "2021-06-24T16:43:48.705841",
     "status": "completed"
    },
    "tags": []
   },
   "source": [
    " "
   ]
  },
  {
   "cell_type": "markdown",
   "id": "demanding-carolina",
   "metadata": {
    "papermill": {
     "duration": 0.059482,
     "end_time": "2021-06-24T16:43:48.879606",
     "exception": false,
     "start_time": "2021-06-24T16:43:48.820124",
     "status": "completed"
    },
    "tags": []
   },
   "source": [
    "#### Inreasing vector length to 300"
   ]
  },
  {
   "cell_type": "code",
   "execution_count": 26,
   "id": "further-circuit",
   "metadata": {
    "execution": {
     "iopub.execute_input": "2021-06-24T16:43:49.001072Z",
     "iopub.status.busy": "2021-06-24T16:43:49.000165Z",
     "iopub.status.idle": "2021-06-24T16:43:49.123077Z",
     "shell.execute_reply": "2021-06-24T16:43:49.122427Z",
     "shell.execute_reply.started": "2021-06-24T16:39:22.483603Z"
    },
    "papermill": {
     "duration": 0.185664,
     "end_time": "2021-06-24T16:43:49.123330",
     "exception": false,
     "start_time": "2021-06-24T16:43:48.937666",
     "status": "completed"
    },
    "tags": []
   },
   "outputs": [
    {
     "ename": "TypeError",
     "evalue": "__init__() got an unexpected keyword argument 'size'",
     "output_type": "error",
     "traceback": [
      "\u001b[0;31m---------------------------------------------------------------------------\u001b[0m",
      "\u001b[0;31mTypeError\u001b[0m                                 Traceback (most recent call last)",
      "\u001b[0;32m<ipython-input-26-164cdc820701>\u001b[0m in \u001b[0;36m<module>\u001b[0;34m\u001b[0m\n\u001b[0;32m----> 1\u001b[0;31m \u001b[0mmodel\u001b[0m \u001b[0;34m=\u001b[0m \u001b[0mword2vec\u001b[0m\u001b[0;34m.\u001b[0m\u001b[0mWord2Vec\u001b[0m\u001b[0;34m(\u001b[0m\u001b[0msentences\u001b[0m\u001b[0;34m,\u001b[0m \u001b[0msize\u001b[0m \u001b[0;34m=\u001b[0m \u001b[0;36m300\u001b[0m\u001b[0;34m)\u001b[0m\u001b[0;34m\u001b[0m\u001b[0;34m\u001b[0m\u001b[0m\n\u001b[0m",
      "\u001b[0;31mTypeError\u001b[0m: __init__() got an unexpected keyword argument 'size'"
     ]
    }
   ],
   "source": [
    "model = word2vec.Word2Vec(sentences, size = 300)"
   ]
  },
  {
   "cell_type": "code",
   "execution_count": 27,
   "id": "juvenile-metro",
   "metadata": {
    "execution": {
     "iopub.execute_input": "2021-06-24T16:43:49.247840Z",
     "iopub.status.busy": "2021-06-24T16:43:49.246756Z",
     "iopub.status.idle": "2021-06-24T16:43:49.255816Z",
     "shell.execute_reply": "2021-06-24T16:43:49.256814Z"
    },
    "papermill": {
     "duration": 0.074788,
     "end_time": "2021-06-24T16:43:49.257102",
     "exception": false,
     "start_time": "2021-06-24T16:43:49.182314",
     "status": "completed"
    },
    "tags": []
   },
   "outputs": [
    {
     "data": {
      "text/plain": [
       "[('profits', 0.7889482378959656),\n",
       " ('payment', 0.7701767683029175),\n",
       " ('funds', 0.7520115971565247),\n",
       " ('credit', 0.7499721646308899),\n",
       " ('pay', 0.7497287392616272),\n",
       " ('payments', 0.7496522068977356),\n",
       " ('debts', 0.7407659888267517),\n",
       " ('buying', 0.7335979342460632),\n",
       " ('tax', 0.7309820055961609),\n",
       " ('demand', 0.7272665500640869)]"
      ]
     },
     "execution_count": 27,
     "metadata": {},
     "output_type": "execute_result"
    }
   ],
   "source": [
    "model.wv.most_similar(\"money\")"
   ]
  },
  {
   "cell_type": "code",
   "execution_count": 28,
   "id": "happy-victorian",
   "metadata": {
    "execution": {
     "iopub.execute_input": "2021-06-24T16:43:49.428771Z",
     "iopub.status.busy": "2021-06-24T16:43:49.427664Z",
     "iopub.status.idle": "2021-06-24T16:43:49.439200Z",
     "shell.execute_reply": "2021-06-24T16:43:49.440119Z"
    },
    "papermill": {
     "duration": 0.078635,
     "end_time": "2021-06-24T16:43:49.440425",
     "exception": false,
     "start_time": "2021-06-24T16:43:49.361790",
     "status": "completed"
    },
    "scrolled": true,
    "tags": []
   },
   "outputs": [
    {
     "data": {
      "text/plain": [
       "[('elizabeth', 0.823495626449585),\n",
       " ('princess', 0.8188961744308472),\n",
       " ('king', 0.7925217747688293),\n",
       " ('prince', 0.7804260849952698),\n",
       " ('lord', 0.7435740232467651),\n",
       " ('mary', 0.7370802164077759),\n",
       " ('consort', 0.7280817031860352),\n",
       " ('duchess', 0.7222596406936646),\n",
       " ('lady', 0.7119742631912231),\n",
       " ('scotland', 0.710852324962616)]"
      ]
     },
     "execution_count": 28,
     "metadata": {},
     "output_type": "execute_result"
    }
   ],
   "source": [
    "model.wv.most_similar(\"queen\")"
   ]
  },
  {
   "cell_type": "code",
   "execution_count": 29,
   "id": "emotional-groove",
   "metadata": {
    "execution": {
     "iopub.execute_input": "2021-06-24T16:43:49.612584Z",
     "iopub.status.busy": "2021-06-24T16:43:49.611453Z",
     "iopub.status.idle": "2021-06-24T16:43:49.621095Z",
     "shell.execute_reply": "2021-06-24T16:43:49.622145Z"
    },
    "papermill": {
     "duration": 0.076521,
     "end_time": "2021-06-24T16:43:49.622432",
     "exception": false,
     "start_time": "2021-06-24T16:43:49.545911",
     "status": "completed"
    },
    "scrolled": true,
    "tags": []
   },
   "outputs": [
    {
     "data": {
      "text/plain": [
       "[('empress', 0.7587097883224487),\n",
       " ('queen', 0.7537899613380432),\n",
       " ('prince', 0.7216415405273438),\n",
       " ('emperor', 0.7210248708724976),\n",
       " ('princess', 0.7119079232215881)]"
      ]
     },
     "execution_count": 29,
     "metadata": {},
     "output_type": "execute_result"
    }
   ],
   "source": [
    "model.wv.most_similar(positive=['woman', 'king'], negative=['man'], topn=5)"
   ]
  },
  {
   "cell_type": "markdown",
   "id": "boring-major",
   "metadata": {
    "papermill": {
     "duration": 0.059927,
     "end_time": "2021-06-24T16:43:49.787111",
     "exception": false,
     "start_time": "2021-06-24T16:43:49.727184",
     "status": "completed"
    },
    "tags": []
   },
   "source": [
    "## Skip gram vs CBOW"
   ]
  },
  {
   "cell_type": "markdown",
   "id": "thermal-cowboy",
   "metadata": {
    "papermill": {
     "duration": 0.058822,
     "end_time": "2021-06-24T16:43:49.904599",
     "exception": false,
     "start_time": "2021-06-24T16:43:49.845777",
     "status": "completed"
    },
    "tags": []
   },
   "source": [
    "Simply put, the CBOW model learns the embedding by predicting the current word based on its context. The skip-gram model learns by predicting the surrounding words given a current word."
   ]
  },
  {
   "cell_type": "markdown",
   "id": "occupied-morris",
   "metadata": {
    "papermill": {
     "duration": 0.058719,
     "end_time": "2021-06-24T16:43:50.021831",
     "exception": false,
     "start_time": "2021-06-24T16:43:49.963112",
     "status": "completed"
    },
    "tags": []
   },
   "source": [
    "![](https://3qeqpr26caki16dnhd19sv6by6v-wpengine.netdna-ssl.com/wp-content/uploads/2017/08/Word2Vec-Training-Models.png)"
   ]
  },
  {
   "cell_type": "markdown",
   "id": "inside-hollywood",
   "metadata": {
    "papermill": {
     "duration": 0.058824,
     "end_time": "2021-06-24T16:43:50.139300",
     "exception": false,
     "start_time": "2021-06-24T16:43:50.080476",
     "status": "completed"
    },
    "tags": []
   },
   "source": [
    "#### Using Skipgram method"
   ]
  },
  {
   "cell_type": "code",
   "execution_count": 30,
   "id": "cultural-desert",
   "metadata": {
    "execution": {
     "iopub.execute_input": "2021-06-24T16:43:50.273201Z",
     "iopub.status.busy": "2021-06-24T16:43:50.272219Z",
     "iopub.status.idle": "2021-06-24T16:43:50.276184Z",
     "shell.execute_reply": "2021-06-24T16:43:50.276708Z"
    },
    "papermill": {
     "duration": 0.079092,
     "end_time": "2021-06-24T16:43:50.276882",
     "exception": false,
     "start_time": "2021-06-24T16:43:50.197790",
     "status": "completed"
    },
    "tags": []
   },
   "outputs": [
    {
     "ename": "TypeError",
     "evalue": "__init__() got an unexpected keyword argument 'size'",
     "output_type": "error",
     "traceback": [
      "\u001b[0;31m---------------------------------------------------------------------------\u001b[0m",
      "\u001b[0;31mTypeError\u001b[0m                                 Traceback (most recent call last)",
      "\u001b[0;32m<ipython-input-30-51309452815f>\u001b[0m in \u001b[0;36m<module>\u001b[0;34m\u001b[0m\n\u001b[0;32m----> 1\u001b[0;31m \u001b[0mmodel_sg\u001b[0m \u001b[0;34m=\u001b[0m \u001b[0mword2vec\u001b[0m\u001b[0;34m.\u001b[0m\u001b[0mWord2Vec\u001b[0m\u001b[0;34m(\u001b[0m\u001b[0msentences\u001b[0m\u001b[0;34m,\u001b[0m \u001b[0msize\u001b[0m\u001b[0;34m=\u001b[0m\u001b[0;36m100\u001b[0m\u001b[0;34m,\u001b[0m\u001b[0msg\u001b[0m\u001b[0;34m=\u001b[0m\u001b[0;36m1\u001b[0m\u001b[0;34m)\u001b[0m\u001b[0;34m\u001b[0m\u001b[0;34m\u001b[0m\u001b[0m\n\u001b[0m",
      "\u001b[0;31mTypeError\u001b[0m: __init__() got an unexpected keyword argument 'size'"
     ]
    }
   ],
   "source": [
    "model_sg = word2vec.Word2Vec(sentences, size=100,sg=1)"
   ]
  },
  {
   "cell_type": "code",
   "execution_count": 31,
   "id": "personal-stereo",
   "metadata": {
    "execution": {
     "iopub.execute_input": "2021-06-24T16:43:50.398316Z",
     "iopub.status.busy": "2021-06-24T16:43:50.397334Z",
     "iopub.status.idle": "2021-06-24T16:43:50.413412Z",
     "shell.execute_reply": "2021-06-24T16:43:50.413863Z"
    },
    "papermill": {
     "duration": 0.078515,
     "end_time": "2021-06-24T16:43:50.414042",
     "exception": false,
     "start_time": "2021-06-24T16:43:50.335527",
     "status": "completed"
    },
    "tags": []
   },
   "outputs": [
    {
     "ename": "NameError",
     "evalue": "name 'model_sg' is not defined",
     "output_type": "error",
     "traceback": [
      "\u001b[0;31m---------------------------------------------------------------------------\u001b[0m",
      "\u001b[0;31mNameError\u001b[0m                                 Traceback (most recent call last)",
      "\u001b[0;32m<ipython-input-31-6ea1b9b5dfe6>\u001b[0m in \u001b[0;36m<module>\u001b[0;34m\u001b[0m\n\u001b[0;32m----> 1\u001b[0;31m \u001b[0mmodel_sg\u001b[0m\u001b[0;34m.\u001b[0m\u001b[0mwv\u001b[0m\u001b[0;34m.\u001b[0m\u001b[0mmost_similar\u001b[0m\u001b[0;34m(\u001b[0m\u001b[0;34m\"money\"\u001b[0m\u001b[0;34m)\u001b[0m\u001b[0;34m\u001b[0m\u001b[0;34m\u001b[0m\u001b[0m\n\u001b[0m",
      "\u001b[0;31mNameError\u001b[0m: name 'model_sg' is not defined"
     ]
    }
   ],
   "source": [
    "model_sg.wv.most_similar(\"money\")"
   ]
  },
  {
   "cell_type": "code",
   "execution_count": 32,
   "id": "floppy-finnish",
   "metadata": {
    "execution": {
     "iopub.execute_input": "2021-06-24T16:43:50.536791Z",
     "iopub.status.busy": "2021-06-24T16:43:50.535798Z",
     "iopub.status.idle": "2021-06-24T16:43:50.551899Z",
     "shell.execute_reply": "2021-06-24T16:43:50.552425Z"
    },
    "papermill": {
     "duration": 0.079346,
     "end_time": "2021-06-24T16:43:50.552626",
     "exception": false,
     "start_time": "2021-06-24T16:43:50.473280",
     "status": "completed"
    },
    "tags": []
   },
   "outputs": [
    {
     "ename": "NameError",
     "evalue": "name 'model_sg' is not defined",
     "output_type": "error",
     "traceback": [
      "\u001b[0;31m---------------------------------------------------------------------------\u001b[0m",
      "\u001b[0;31mNameError\u001b[0m                                 Traceback (most recent call last)",
      "\u001b[0;32m<ipython-input-32-28a6a6aeb982>\u001b[0m in \u001b[0;36m<module>\u001b[0;34m\u001b[0m\n\u001b[0;32m----> 1\u001b[0;31m \u001b[0mmodel_sg\u001b[0m\u001b[0;34m.\u001b[0m\u001b[0mwv\u001b[0m\u001b[0;34m.\u001b[0m\u001b[0mmost_similar\u001b[0m\u001b[0;34m(\u001b[0m\u001b[0;34m\"queen\"\u001b[0m\u001b[0;34m)\u001b[0m\u001b[0;34m\u001b[0m\u001b[0;34m\u001b[0m\u001b[0m\n\u001b[0m",
      "\u001b[0;31mNameError\u001b[0m: name 'model_sg' is not defined"
     ]
    }
   ],
   "source": [
    "model_sg.wv.most_similar(\"queen\")"
   ]
  },
  {
   "cell_type": "code",
   "execution_count": 33,
   "id": "historical-complaint",
   "metadata": {
    "execution": {
     "iopub.execute_input": "2021-06-24T16:43:50.676748Z",
     "iopub.status.busy": "2021-06-24T16:43:50.675713Z",
     "iopub.status.idle": "2021-06-24T16:43:50.692856Z",
     "shell.execute_reply": "2021-06-24T16:43:50.693350Z"
    },
    "papermill": {
     "duration": 0.080722,
     "end_time": "2021-06-24T16:43:50.693532",
     "exception": false,
     "start_time": "2021-06-24T16:43:50.612810",
     "status": "completed"
    },
    "tags": []
   },
   "outputs": [
    {
     "ename": "NameError",
     "evalue": "name 'model_sg' is not defined",
     "output_type": "error",
     "traceback": [
      "\u001b[0;31m---------------------------------------------------------------------------\u001b[0m",
      "\u001b[0;31mNameError\u001b[0m                                 Traceback (most recent call last)",
      "\u001b[0;32m<ipython-input-33-d46dd989e6e7>\u001b[0m in \u001b[0;36m<module>\u001b[0;34m\u001b[0m\n\u001b[0;32m----> 1\u001b[0;31m \u001b[0mmodel_sg\u001b[0m\u001b[0;34m.\u001b[0m\u001b[0mwv\u001b[0m\u001b[0;34m.\u001b[0m\u001b[0mmost_similar\u001b[0m\u001b[0;34m(\u001b[0m\u001b[0mpositive\u001b[0m\u001b[0;34m=\u001b[0m\u001b[0;34m[\u001b[0m\u001b[0;34m'woman'\u001b[0m\u001b[0;34m,\u001b[0m \u001b[0;34m'king'\u001b[0m\u001b[0;34m]\u001b[0m\u001b[0;34m,\u001b[0m \u001b[0mnegative\u001b[0m\u001b[0;34m=\u001b[0m\u001b[0;34m[\u001b[0m\u001b[0;34m'man'\u001b[0m\u001b[0;34m]\u001b[0m\u001b[0;34m,\u001b[0m \u001b[0mtopn\u001b[0m\u001b[0;34m=\u001b[0m\u001b[0;36m5\u001b[0m\u001b[0;34m)\u001b[0m\u001b[0;34m\u001b[0m\u001b[0;34m\u001b[0m\u001b[0m\n\u001b[0m",
      "\u001b[0;31mNameError\u001b[0m: name 'model_sg' is not defined"
     ]
    }
   ],
   "source": [
    "model_sg.wv.most_similar(positive=['woman', 'king'], negative=['man'], topn=5)"
   ]
  },
  {
   "cell_type": "code",
   "execution_count": 34,
   "id": "clear-musician",
   "metadata": {
    "execution": {
     "iopub.execute_input": "2021-06-24T16:43:50.817899Z",
     "iopub.status.busy": "2021-06-24T16:43:50.816853Z",
     "iopub.status.idle": "2021-06-24T16:43:50.833776Z",
     "shell.execute_reply": "2021-06-24T16:43:50.833085Z"
    },
    "papermill": {
     "duration": 0.080401,
     "end_time": "2021-06-24T16:43:50.833926",
     "exception": false,
     "start_time": "2021-06-24T16:43:50.753525",
     "status": "completed"
    },
    "tags": []
   },
   "outputs": [
    {
     "ename": "NameError",
     "evalue": "name 'model_sg' is not defined",
     "output_type": "error",
     "traceback": [
      "\u001b[0;31m---------------------------------------------------------------------------\u001b[0m",
      "\u001b[0;31mNameError\u001b[0m                                 Traceback (most recent call last)",
      "\u001b[0;32m<ipython-input-34-ef022c7a2d34>\u001b[0m in \u001b[0;36m<module>\u001b[0;34m\u001b[0m\n\u001b[0;32m----> 1\u001b[0;31m \u001b[0mmodel_sg\u001b[0m\u001b[0;34m.\u001b[0m\u001b[0mwv\u001b[0m\u001b[0;34m.\u001b[0m\u001b[0mmost_similar\u001b[0m\u001b[0;34m(\u001b[0m\u001b[0;34m\"meandering\"\u001b[0m\u001b[0;34m)\u001b[0m\u001b[0;34m\u001b[0m\u001b[0;34m\u001b[0m\u001b[0m\n\u001b[0m",
      "\u001b[0;31mNameError\u001b[0m: name 'model_sg' is not defined"
     ]
    }
   ],
   "source": [
    "model_sg.wv.most_similar(\"meandering\")"
   ]
  },
  {
   "cell_type": "markdown",
   "id": "apparent-jaguar",
   "metadata": {
    "papermill": {
     "duration": 0.060719,
     "end_time": "2021-06-24T16:43:50.956018",
     "exception": false,
     "start_time": "2021-06-24T16:43:50.895299",
     "status": "completed"
    },
    "tags": []
   },
   "source": [
    "#### Learning:\n",
    "In CBOW the vectors from the context words are averaged before predicting the center word. In skip-gram there is no averaging of embedding vectors. It seems like the model can learn better representations for the rare words when their vectors are not averaged with the other context words in the process of making the predictions. "
   ]
  },
  {
   "cell_type": "markdown",
   "id": "given-brush",
   "metadata": {
    "papermill": {
     "duration": 0.060784,
     "end_time": "2021-06-24T16:43:51.078596",
     "exception": false,
     "start_time": "2021-06-24T16:43:51.017812",
     "status": "completed"
    },
    "tags": []
   },
   "source": [
    "## Word vectors trained on different contexts\n",
    " - We'll load different corpora, from different contexts and see how the embeddings vary\n",
    " - The text8 corpus is wikipedia pages, while Brown corpus is from 15 different topics, and movie reviews are from IMDB"
   ]
  },
  {
   "cell_type": "code",
   "execution_count": 35,
   "id": "empirical-concept",
   "metadata": {
    "execution": {
     "iopub.execute_input": "2021-06-24T16:43:51.206912Z",
     "iopub.status.busy": "2021-06-24T16:43:51.206236Z",
     "iopub.status.idle": "2021-06-24T16:43:51.209366Z",
     "shell.execute_reply": "2021-06-24T16:43:51.208801Z"
    },
    "papermill": {
     "duration": 0.068264,
     "end_time": "2021-06-24T16:43:51.209500",
     "exception": false,
     "start_time": "2021-06-24T16:43:51.141236",
     "status": "completed"
    },
    "tags": []
   },
   "outputs": [],
   "source": [
    "from nltk.corpus import brown, movie_reviews"
   ]
  },
  {
   "cell_type": "code",
   "execution_count": 36,
   "id": "adjacent-credit",
   "metadata": {
    "execution": {
     "iopub.execute_input": "2021-06-24T16:43:51.335509Z",
     "iopub.status.busy": "2021-06-24T16:43:51.334903Z",
     "iopub.status.idle": "2021-06-24T16:44:46.308307Z",
     "shell.execute_reply": "2021-06-24T16:44:46.309029Z"
    },
    "papermill": {
     "duration": 55.037815,
     "end_time": "2021-06-24T16:44:46.309257",
     "exception": false,
     "start_time": "2021-06-24T16:43:51.271442",
     "status": "completed"
    },
    "tags": []
   },
   "outputs": [],
   "source": [
    "model_brown = Word2Vec(brown.sents(), sg=1)\n",
    "model_movie = Word2Vec(movie_reviews.sents(), sg=1, window=5)"
   ]
  },
  {
   "cell_type": "code",
   "execution_count": 37,
   "id": "celtic-grocery",
   "metadata": {
    "execution": {
     "iopub.execute_input": "2021-06-24T16:44:46.435250Z",
     "iopub.status.busy": "2021-06-24T16:44:46.434273Z",
     "iopub.status.idle": "2021-06-24T16:44:46.450441Z",
     "shell.execute_reply": "2021-06-24T16:44:46.450988Z"
    },
    "papermill": {
     "duration": 0.080554,
     "end_time": "2021-06-24T16:44:46.451161",
     "exception": false,
     "start_time": "2021-06-24T16:44:46.370607",
     "status": "completed"
    },
    "tags": []
   },
   "outputs": [
    {
     "ename": "NameError",
     "evalue": "name 'model_sg' is not defined",
     "output_type": "error",
     "traceback": [
      "\u001b[0;31m---------------------------------------------------------------------------\u001b[0m",
      "\u001b[0;31mNameError\u001b[0m                                 Traceback (most recent call last)",
      "\u001b[0;32m<ipython-input-37-c73bdcf9f097>\u001b[0m in \u001b[0;36m<module>\u001b[0;34m\u001b[0m\n\u001b[0;32m----> 1\u001b[0;31m \u001b[0mmodel_sg\u001b[0m\u001b[0;34m.\u001b[0m\u001b[0mwv\u001b[0m\u001b[0;34m.\u001b[0m\u001b[0mmost_similar\u001b[0m\u001b[0;34m(\u001b[0m\u001b[0;34m'money'\u001b[0m\u001b[0;34m,\u001b[0m \u001b[0mtopn\u001b[0m\u001b[0;34m=\u001b[0m\u001b[0;36m5\u001b[0m\u001b[0;34m)\u001b[0m\u001b[0;34m\u001b[0m\u001b[0;34m\u001b[0m\u001b[0m\n\u001b[0m",
      "\u001b[0;31mNameError\u001b[0m: name 'model_sg' is not defined"
     ]
    }
   ],
   "source": [
    "model_sg.wv.most_similar('money', topn=5)"
   ]
  },
  {
   "cell_type": "code",
   "execution_count": 38,
   "id": "rough-wildlife",
   "metadata": {
    "execution": {
     "iopub.execute_input": "2021-06-24T16:44:46.579402Z",
     "iopub.status.busy": "2021-06-24T16:44:46.578114Z",
     "iopub.status.idle": "2021-06-24T16:44:46.596057Z",
     "shell.execute_reply": "2021-06-24T16:44:46.597104Z"
    },
    "papermill": {
     "duration": 0.085433,
     "end_time": "2021-06-24T16:44:46.597385",
     "exception": false,
     "start_time": "2021-06-24T16:44:46.511952",
     "status": "completed"
    },
    "tags": []
   },
   "outputs": [
    {
     "data": {
      "text/plain": [
       "[('job', 0.8303068280220032),\n",
       " ('care', 0.829748272895813),\n",
       " ('friendship', 0.8187500834465027),\n",
       " ('risk', 0.805528998374939),\n",
       " ('joy', 0.8043076395988464)]"
      ]
     },
     "execution_count": 38,
     "metadata": {},
     "output_type": "execute_result"
    }
   ],
   "source": [
    "model_brown.wv.most_similar('money', topn=5)"
   ]
  },
  {
   "cell_type": "code",
   "execution_count": 39,
   "id": "angry-philip",
   "metadata": {
    "execution": {
     "iopub.execute_input": "2021-06-24T16:44:46.778880Z",
     "iopub.status.busy": "2021-06-24T16:44:46.777715Z",
     "iopub.status.idle": "2021-06-24T16:44:46.787836Z",
     "shell.execute_reply": "2021-06-24T16:44:46.788840Z"
    },
    "papermill": {
     "duration": 0.080622,
     "end_time": "2021-06-24T16:44:46.789133",
     "exception": false,
     "start_time": "2021-06-24T16:44:46.708511",
     "status": "completed"
    },
    "tags": []
   },
   "outputs": [
    {
     "data": {
      "text/plain": [
       "[('cash', 0.7209646701812744),\n",
       " ('paid', 0.6985129714012146),\n",
       " ('ransom', 0.6924200057983398),\n",
       " ('bucks', 0.679966390132904),\n",
       " ('record', 0.6798316240310669)]"
      ]
     },
     "execution_count": 39,
     "metadata": {},
     "output_type": "execute_result"
    }
   ],
   "source": [
    "model_movie.wv.most_similar('money', topn=5)"
   ]
  },
  {
   "cell_type": "markdown",
   "id": "periodic-immigration",
   "metadata": {
    "papermill": {
     "duration": 0.064358,
     "end_time": "2021-06-24T16:44:46.967934",
     "exception": false,
     "start_time": "2021-06-24T16:44:46.903576",
     "status": "completed"
    },
    "tags": []
   },
   "source": [
    " \n",
    "I hope it’s pretty clear from the above examples that the semantic similarity of words can vary greatly depending on the textual context. "
   ]
  },
  {
   "cell_type": "markdown",
   "id": "thrown-tonight",
   "metadata": {
    "papermill": {
     "duration": 0.069294,
     "end_time": "2021-06-24T16:44:47.103041",
     "exception": false,
     "start_time": "2021-06-24T16:44:47.033747",
     "status": "completed"
    },
    "tags": []
   },
   "source": [
    "## Using pre-trained word vectors"
   ]
  },
  {
   "cell_type": "markdown",
   "id": "assured-manual",
   "metadata": {
    "papermill": {
     "duration": 0.063842,
     "end_time": "2021-06-24T16:44:47.231715",
     "exception": false,
     "start_time": "2021-06-24T16:44:47.167873",
     "status": "completed"
    },
    "tags": []
   },
   "source": [
    "### A quick note on Glove:\n",
    "   - Developed by Stanford by training on 6 Billion tokens\n",
    "   - Objective is slightly different\n",
    "   - End result very similar to Google's word2vec"
   ]
  },
  {
   "cell_type": "markdown",
   "id": "genetic-canvas",
   "metadata": {
    "papermill": {
     "duration": 0.068288,
     "end_time": "2021-06-24T16:44:47.366171",
     "exception": false,
     "start_time": "2021-06-24T16:44:47.297883",
     "status": "completed"
    },
    "tags": []
   },
   "source": [
    "https://nlp.stanford.edu/projects/glove/"
   ]
  },
  {
   "cell_type": "markdown",
   "id": "compliant-water",
   "metadata": {
    "papermill": {
     "duration": 0.066,
     "end_time": "2021-06-24T16:44:47.497513",
     "exception": false,
     "start_time": "2021-06-24T16:44:47.431513",
     "status": "completed"
    },
    "tags": []
   },
   "source": [
    "- We'll use the 100D vectors for this example.\n",
    "- The trained vectors are available in a text file\n",
    "- The format is slightly different from that of word2vec, necessitating the use of a utility to format accordingly"
   ]
  },
  {
   "cell_type": "code",
   "execution_count": 40,
   "id": "hindu-dividend",
   "metadata": {
    "execution": {
     "iopub.execute_input": "2021-06-24T16:44:47.634064Z",
     "iopub.status.busy": "2021-06-24T16:44:47.633376Z",
     "iopub.status.idle": "2021-06-24T16:44:47.673148Z",
     "shell.execute_reply": "2021-06-24T16:44:47.672598Z"
    },
    "papermill": {
     "duration": 0.109416,
     "end_time": "2021-06-24T16:44:47.673316",
     "exception": false,
     "start_time": "2021-06-24T16:44:47.563900",
     "status": "completed"
    },
    "tags": []
   },
   "outputs": [
    {
     "name": "stderr",
     "output_type": "stream",
     "text": [
      "/opt/conda/lib/python3.7/site-packages/ipykernel_launcher.py:4: DeprecationWarning: Call to deprecated `glove2word2vec` (KeyedVectors.load_word2vec_format(.., binary=False, no_header=True) loads GLoVE text vectors.).\n",
      "  after removing the cwd from sys.path.\n"
     ]
    },
    {
     "ename": "FileNotFoundError",
     "evalue": "[Errno 2] No such file or directory: 'glove.6B.100d.txt'",
     "output_type": "error",
     "traceback": [
      "\u001b[0;31m---------------------------------------------------------------------------\u001b[0m",
      "\u001b[0;31mFileNotFoundError\u001b[0m                         Traceback (most recent call last)",
      "\u001b[0;32m<ipython-input-40-552ec37b82eb>\u001b[0m in \u001b[0;36m<module>\u001b[0;34m\u001b[0m\n\u001b[1;32m      2\u001b[0m \u001b[0mglove_input_file\u001b[0m \u001b[0;34m=\u001b[0m \u001b[0;34m'glove.6B.100d.txt'\u001b[0m\u001b[0;34m\u001b[0m\u001b[0;34m\u001b[0m\u001b[0m\n\u001b[1;32m      3\u001b[0m \u001b[0mword2vec_output_file\u001b[0m \u001b[0;34m=\u001b[0m \u001b[0;34m'glove.6B.100d.w2vformat.txt'\u001b[0m\u001b[0;34m\u001b[0m\u001b[0;34m\u001b[0m\u001b[0m\n\u001b[0;32m----> 4\u001b[0;31m \u001b[0mglove2word2vec\u001b[0m\u001b[0;34m(\u001b[0m\u001b[0mglove_input_file\u001b[0m\u001b[0;34m,\u001b[0m \u001b[0mword2vec_output_file\u001b[0m\u001b[0;34m)\u001b[0m\u001b[0;34m\u001b[0m\u001b[0;34m\u001b[0m\u001b[0m\n\u001b[0m",
      "\u001b[0;32m/opt/conda/lib/python3.7/site-packages/gensim/utils.py\u001b[0m in \u001b[0;36mnew_func1\u001b[0;34m(*args, **kwargs)\u001b[0m\n\u001b[1;32m   1517\u001b[0m                     \u001b[0mstacklevel\u001b[0m\u001b[0;34m=\u001b[0m\u001b[0;36m2\u001b[0m\u001b[0;34m\u001b[0m\u001b[0;34m\u001b[0m\u001b[0m\n\u001b[1;32m   1518\u001b[0m                 )\n\u001b[0;32m-> 1519\u001b[0;31m                 \u001b[0;32mreturn\u001b[0m \u001b[0mfunc\u001b[0m\u001b[0;34m(\u001b[0m\u001b[0;34m*\u001b[0m\u001b[0margs\u001b[0m\u001b[0;34m,\u001b[0m \u001b[0;34m**\u001b[0m\u001b[0mkwargs\u001b[0m\u001b[0;34m)\u001b[0m\u001b[0;34m\u001b[0m\u001b[0;34m\u001b[0m\u001b[0m\n\u001b[0m\u001b[1;32m   1520\u001b[0m \u001b[0;34m\u001b[0m\u001b[0m\n\u001b[1;32m   1521\u001b[0m             \u001b[0;32mreturn\u001b[0m \u001b[0mnew_func1\u001b[0m\u001b[0;34m\u001b[0m\u001b[0;34m\u001b[0m\u001b[0m\n",
      "\u001b[0;32m/opt/conda/lib/python3.7/site-packages/gensim/scripts/glove2word2vec.py\u001b[0m in \u001b[0;36mglove2word2vec\u001b[0;34m(glove_input_file, word2vec_output_file)\u001b[0m\n\u001b[1;32m    107\u001b[0m \u001b[0;34m\u001b[0m\u001b[0m\n\u001b[1;32m    108\u001b[0m     \"\"\"\n\u001b[0;32m--> 109\u001b[0;31m     \u001b[0mglovekv\u001b[0m \u001b[0;34m=\u001b[0m \u001b[0mKeyedVectors\u001b[0m\u001b[0;34m.\u001b[0m\u001b[0mload_word2vec_format\u001b[0m\u001b[0;34m(\u001b[0m\u001b[0mglove_input_file\u001b[0m\u001b[0;34m,\u001b[0m \u001b[0mbinary\u001b[0m\u001b[0;34m=\u001b[0m\u001b[0;32mFalse\u001b[0m\u001b[0;34m,\u001b[0m \u001b[0mno_header\u001b[0m\u001b[0;34m=\u001b[0m\u001b[0;32mTrue\u001b[0m\u001b[0;34m)\u001b[0m\u001b[0;34m\u001b[0m\u001b[0;34m\u001b[0m\u001b[0m\n\u001b[0m\u001b[1;32m    110\u001b[0m \u001b[0;34m\u001b[0m\u001b[0m\n\u001b[1;32m    111\u001b[0m     \u001b[0mnum_lines\u001b[0m\u001b[0;34m,\u001b[0m \u001b[0mnum_dims\u001b[0m \u001b[0;34m=\u001b[0m \u001b[0mlen\u001b[0m\u001b[0;34m(\u001b[0m\u001b[0mglovekv\u001b[0m\u001b[0;34m)\u001b[0m\u001b[0;34m,\u001b[0m \u001b[0mglovekv\u001b[0m\u001b[0;34m.\u001b[0m\u001b[0mvector_size\u001b[0m\u001b[0;34m\u001b[0m\u001b[0;34m\u001b[0m\u001b[0m\n",
      "\u001b[0;32m/opt/conda/lib/python3.7/site-packages/gensim/models/keyedvectors.py\u001b[0m in \u001b[0;36mload_word2vec_format\u001b[0;34m(cls, fname, fvocab, binary, encoding, unicode_errors, limit, datatype, no_header)\u001b[0m\n\u001b[1;32m   1630\u001b[0m         return _load_word2vec_format(\n\u001b[1;32m   1631\u001b[0m             \u001b[0mcls\u001b[0m\u001b[0;34m,\u001b[0m \u001b[0mfname\u001b[0m\u001b[0;34m,\u001b[0m \u001b[0mfvocab\u001b[0m\u001b[0;34m=\u001b[0m\u001b[0mfvocab\u001b[0m\u001b[0;34m,\u001b[0m \u001b[0mbinary\u001b[0m\u001b[0;34m=\u001b[0m\u001b[0mbinary\u001b[0m\u001b[0;34m,\u001b[0m \u001b[0mencoding\u001b[0m\u001b[0;34m=\u001b[0m\u001b[0mencoding\u001b[0m\u001b[0;34m,\u001b[0m \u001b[0municode_errors\u001b[0m\u001b[0;34m=\u001b[0m\u001b[0municode_errors\u001b[0m\u001b[0;34m,\u001b[0m\u001b[0;34m\u001b[0m\u001b[0;34m\u001b[0m\u001b[0m\n\u001b[0;32m-> 1632\u001b[0;31m             \u001b[0mlimit\u001b[0m\u001b[0;34m=\u001b[0m\u001b[0mlimit\u001b[0m\u001b[0;34m,\u001b[0m \u001b[0mdatatype\u001b[0m\u001b[0;34m=\u001b[0m\u001b[0mdatatype\u001b[0m\u001b[0;34m,\u001b[0m \u001b[0mno_header\u001b[0m\u001b[0;34m=\u001b[0m\u001b[0mno_header\u001b[0m\u001b[0;34m,\u001b[0m\u001b[0;34m\u001b[0m\u001b[0;34m\u001b[0m\u001b[0m\n\u001b[0m\u001b[1;32m   1633\u001b[0m         )\n\u001b[1;32m   1634\u001b[0m \u001b[0;34m\u001b[0m\u001b[0m\n",
      "\u001b[0;32m/opt/conda/lib/python3.7/site-packages/gensim/models/keyedvectors.py\u001b[0m in \u001b[0;36m_load_word2vec_format\u001b[0;34m(cls, fname, fvocab, binary, encoding, unicode_errors, limit, datatype, no_header, binary_chunk_size)\u001b[0m\n\u001b[1;32m   1890\u001b[0m \u001b[0;34m\u001b[0m\u001b[0m\n\u001b[1;32m   1891\u001b[0m     \u001b[0mlogger\u001b[0m\u001b[0;34m.\u001b[0m\u001b[0minfo\u001b[0m\u001b[0;34m(\u001b[0m\u001b[0;34m\"loading projection weights from %s\"\u001b[0m\u001b[0;34m,\u001b[0m \u001b[0mfname\u001b[0m\u001b[0;34m)\u001b[0m\u001b[0;34m\u001b[0m\u001b[0;34m\u001b[0m\u001b[0m\n\u001b[0;32m-> 1892\u001b[0;31m     \u001b[0;32mwith\u001b[0m \u001b[0mutils\u001b[0m\u001b[0;34m.\u001b[0m\u001b[0mopen\u001b[0m\u001b[0;34m(\u001b[0m\u001b[0mfname\u001b[0m\u001b[0;34m,\u001b[0m \u001b[0;34m'rb'\u001b[0m\u001b[0;34m)\u001b[0m \u001b[0;32mas\u001b[0m \u001b[0mfin\u001b[0m\u001b[0;34m:\u001b[0m\u001b[0;34m\u001b[0m\u001b[0;34m\u001b[0m\u001b[0m\n\u001b[0m\u001b[1;32m   1893\u001b[0m         \u001b[0;32mif\u001b[0m \u001b[0mno_header\u001b[0m\u001b[0;34m:\u001b[0m\u001b[0;34m\u001b[0m\u001b[0;34m\u001b[0m\u001b[0m\n\u001b[1;32m   1894\u001b[0m             \u001b[0;31m# deduce both vocab_size & vector_size from 1st pass over file\u001b[0m\u001b[0;34m\u001b[0m\u001b[0;34m\u001b[0m\u001b[0;34m\u001b[0m\u001b[0m\n",
      "\u001b[0;32m/opt/conda/lib/python3.7/site-packages/smart_open/smart_open_lib.py\u001b[0m in \u001b[0;36mopen\u001b[0;34m(uri, mode, buffering, encoding, errors, newline, closefd, opener, ignore_ext, transport_params)\u001b[0m\n\u001b[1;32m    179\u001b[0m         \u001b[0mencoding\u001b[0m\u001b[0;34m=\u001b[0m\u001b[0mencoding\u001b[0m\u001b[0;34m,\u001b[0m\u001b[0;34m\u001b[0m\u001b[0;34m\u001b[0m\u001b[0m\n\u001b[1;32m    180\u001b[0m         \u001b[0merrors\u001b[0m\u001b[0;34m=\u001b[0m\u001b[0merrors\u001b[0m\u001b[0;34m,\u001b[0m\u001b[0;34m\u001b[0m\u001b[0;34m\u001b[0m\u001b[0m\n\u001b[0;32m--> 181\u001b[0;31m         \u001b[0mnewline\u001b[0m\u001b[0;34m=\u001b[0m\u001b[0mnewline\u001b[0m\u001b[0;34m,\u001b[0m\u001b[0;34m\u001b[0m\u001b[0;34m\u001b[0m\u001b[0m\n\u001b[0m\u001b[1;32m    182\u001b[0m     )\n\u001b[1;32m    183\u001b[0m     \u001b[0;32mif\u001b[0m \u001b[0mfobj\u001b[0m \u001b[0;32mis\u001b[0m \u001b[0;32mnot\u001b[0m \u001b[0;32mNone\u001b[0m\u001b[0;34m:\u001b[0m\u001b[0;34m\u001b[0m\u001b[0;34m\u001b[0m\u001b[0m\n",
      "\u001b[0;32m/opt/conda/lib/python3.7/site-packages/smart_open/smart_open_lib.py\u001b[0m in \u001b[0;36m_shortcut_open\u001b[0;34m(uri, mode, ignore_ext, buffering, encoding, errors, newline)\u001b[0m\n\u001b[1;32m    344\u001b[0m         \u001b[0mopen_kwargs\u001b[0m\u001b[0;34m[\u001b[0m\u001b[0;34m'errors'\u001b[0m\u001b[0;34m]\u001b[0m \u001b[0;34m=\u001b[0m \u001b[0merrors\u001b[0m\u001b[0;34m\u001b[0m\u001b[0;34m\u001b[0m\u001b[0m\n\u001b[1;32m    345\u001b[0m \u001b[0;34m\u001b[0m\u001b[0m\n\u001b[0;32m--> 346\u001b[0;31m     \u001b[0;32mreturn\u001b[0m \u001b[0m_builtin_open\u001b[0m\u001b[0;34m(\u001b[0m\u001b[0mlocal_path\u001b[0m\u001b[0;34m,\u001b[0m \u001b[0mmode\u001b[0m\u001b[0;34m,\u001b[0m \u001b[0mbuffering\u001b[0m\u001b[0;34m=\u001b[0m\u001b[0mbuffering\u001b[0m\u001b[0;34m,\u001b[0m \u001b[0;34m**\u001b[0m\u001b[0mopen_kwargs\u001b[0m\u001b[0;34m)\u001b[0m\u001b[0;34m\u001b[0m\u001b[0;34m\u001b[0m\u001b[0m\n\u001b[0m\u001b[1;32m    347\u001b[0m \u001b[0;34m\u001b[0m\u001b[0m\n\u001b[1;32m    348\u001b[0m \u001b[0;34m\u001b[0m\u001b[0m\n",
      "\u001b[0;31mFileNotFoundError\u001b[0m: [Errno 2] No such file or directory: 'glove.6B.100d.txt'"
     ]
    }
   ],
   "source": [
    "from gensim.scripts.glove2word2vec import glove2word2vec\n",
    "glove_input_file = 'glove.6B.100d.txt'\n",
    "word2vec_output_file = 'glove.6B.100d.w2vformat.txt'\n",
    "glove2word2vec(glove_input_file, word2vec_output_file)"
   ]
  },
  {
   "cell_type": "code",
   "execution_count": 41,
   "id": "activated-peter",
   "metadata": {
    "execution": {
     "iopub.execute_input": "2021-06-24T16:44:47.811054Z",
     "iopub.status.busy": "2021-06-24T16:44:47.810019Z",
     "iopub.status.idle": "2021-06-24T16:44:47.835814Z",
     "shell.execute_reply": "2021-06-24T16:44:47.836535Z"
    },
    "papermill": {
     "duration": 0.097645,
     "end_time": "2021-06-24T16:44:47.836771",
     "exception": false,
     "start_time": "2021-06-24T16:44:47.739126",
     "status": "completed"
    },
    "tags": []
   },
   "outputs": [
    {
     "ename": "FileNotFoundError",
     "evalue": "[Errno 2] No such file or directory: 'glove.6B.100d.w2vformat.txt'",
     "output_type": "error",
     "traceback": [
      "\u001b[0;31m---------------------------------------------------------------------------\u001b[0m",
      "\u001b[0;31mFileNotFoundError\u001b[0m                         Traceback (most recent call last)",
      "\u001b[0;32m<ipython-input-41-2caf7d3bf5b8>\u001b[0m in \u001b[0;36m<module>\u001b[0;34m\u001b[0m\n\u001b[1;32m      1\u001b[0m \u001b[0;32mfrom\u001b[0m \u001b[0mgensim\u001b[0m\u001b[0;34m.\u001b[0m\u001b[0mmodels\u001b[0m\u001b[0;34m.\u001b[0m\u001b[0mkeyedvectors\u001b[0m \u001b[0;32mimport\u001b[0m \u001b[0mKeyedVectors\u001b[0m\u001b[0;34m\u001b[0m\u001b[0;34m\u001b[0m\u001b[0m\n\u001b[0;32m----> 2\u001b[0;31m \u001b[0mglove_model\u001b[0m \u001b[0;34m=\u001b[0m \u001b[0mKeyedVectors\u001b[0m\u001b[0;34m.\u001b[0m\u001b[0mload_word2vec_format\u001b[0m\u001b[0;34m(\u001b[0m\u001b[0;34m\"glove.6B.100d.w2vformat.txt\"\u001b[0m\u001b[0;34m,\u001b[0m \u001b[0mbinary\u001b[0m\u001b[0;34m=\u001b[0m\u001b[0;32mFalse\u001b[0m\u001b[0;34m)\u001b[0m\u001b[0;34m\u001b[0m\u001b[0;34m\u001b[0m\u001b[0m\n\u001b[0m",
      "\u001b[0;32m/opt/conda/lib/python3.7/site-packages/gensim/models/keyedvectors.py\u001b[0m in \u001b[0;36mload_word2vec_format\u001b[0;34m(cls, fname, fvocab, binary, encoding, unicode_errors, limit, datatype, no_header)\u001b[0m\n\u001b[1;32m   1630\u001b[0m         return _load_word2vec_format(\n\u001b[1;32m   1631\u001b[0m             \u001b[0mcls\u001b[0m\u001b[0;34m,\u001b[0m \u001b[0mfname\u001b[0m\u001b[0;34m,\u001b[0m \u001b[0mfvocab\u001b[0m\u001b[0;34m=\u001b[0m\u001b[0mfvocab\u001b[0m\u001b[0;34m,\u001b[0m \u001b[0mbinary\u001b[0m\u001b[0;34m=\u001b[0m\u001b[0mbinary\u001b[0m\u001b[0;34m,\u001b[0m \u001b[0mencoding\u001b[0m\u001b[0;34m=\u001b[0m\u001b[0mencoding\u001b[0m\u001b[0;34m,\u001b[0m \u001b[0municode_errors\u001b[0m\u001b[0;34m=\u001b[0m\u001b[0municode_errors\u001b[0m\u001b[0;34m,\u001b[0m\u001b[0;34m\u001b[0m\u001b[0;34m\u001b[0m\u001b[0m\n\u001b[0;32m-> 1632\u001b[0;31m             \u001b[0mlimit\u001b[0m\u001b[0;34m=\u001b[0m\u001b[0mlimit\u001b[0m\u001b[0;34m,\u001b[0m \u001b[0mdatatype\u001b[0m\u001b[0;34m=\u001b[0m\u001b[0mdatatype\u001b[0m\u001b[0;34m,\u001b[0m \u001b[0mno_header\u001b[0m\u001b[0;34m=\u001b[0m\u001b[0mno_header\u001b[0m\u001b[0;34m,\u001b[0m\u001b[0;34m\u001b[0m\u001b[0;34m\u001b[0m\u001b[0m\n\u001b[0m\u001b[1;32m   1633\u001b[0m         )\n\u001b[1;32m   1634\u001b[0m \u001b[0;34m\u001b[0m\u001b[0m\n",
      "\u001b[0;32m/opt/conda/lib/python3.7/site-packages/gensim/models/keyedvectors.py\u001b[0m in \u001b[0;36m_load_word2vec_format\u001b[0;34m(cls, fname, fvocab, binary, encoding, unicode_errors, limit, datatype, no_header, binary_chunk_size)\u001b[0m\n\u001b[1;32m   1890\u001b[0m \u001b[0;34m\u001b[0m\u001b[0m\n\u001b[1;32m   1891\u001b[0m     \u001b[0mlogger\u001b[0m\u001b[0;34m.\u001b[0m\u001b[0minfo\u001b[0m\u001b[0;34m(\u001b[0m\u001b[0;34m\"loading projection weights from %s\"\u001b[0m\u001b[0;34m,\u001b[0m \u001b[0mfname\u001b[0m\u001b[0;34m)\u001b[0m\u001b[0;34m\u001b[0m\u001b[0;34m\u001b[0m\u001b[0m\n\u001b[0;32m-> 1892\u001b[0;31m     \u001b[0;32mwith\u001b[0m \u001b[0mutils\u001b[0m\u001b[0;34m.\u001b[0m\u001b[0mopen\u001b[0m\u001b[0;34m(\u001b[0m\u001b[0mfname\u001b[0m\u001b[0;34m,\u001b[0m \u001b[0;34m'rb'\u001b[0m\u001b[0;34m)\u001b[0m \u001b[0;32mas\u001b[0m \u001b[0mfin\u001b[0m\u001b[0;34m:\u001b[0m\u001b[0;34m\u001b[0m\u001b[0;34m\u001b[0m\u001b[0m\n\u001b[0m\u001b[1;32m   1893\u001b[0m         \u001b[0;32mif\u001b[0m \u001b[0mno_header\u001b[0m\u001b[0;34m:\u001b[0m\u001b[0;34m\u001b[0m\u001b[0;34m\u001b[0m\u001b[0m\n\u001b[1;32m   1894\u001b[0m             \u001b[0;31m# deduce both vocab_size & vector_size from 1st pass over file\u001b[0m\u001b[0;34m\u001b[0m\u001b[0;34m\u001b[0m\u001b[0;34m\u001b[0m\u001b[0m\n",
      "\u001b[0;32m/opt/conda/lib/python3.7/site-packages/smart_open/smart_open_lib.py\u001b[0m in \u001b[0;36mopen\u001b[0;34m(uri, mode, buffering, encoding, errors, newline, closefd, opener, ignore_ext, transport_params)\u001b[0m\n\u001b[1;32m    179\u001b[0m         \u001b[0mencoding\u001b[0m\u001b[0;34m=\u001b[0m\u001b[0mencoding\u001b[0m\u001b[0;34m,\u001b[0m\u001b[0;34m\u001b[0m\u001b[0;34m\u001b[0m\u001b[0m\n\u001b[1;32m    180\u001b[0m         \u001b[0merrors\u001b[0m\u001b[0;34m=\u001b[0m\u001b[0merrors\u001b[0m\u001b[0;34m,\u001b[0m\u001b[0;34m\u001b[0m\u001b[0;34m\u001b[0m\u001b[0m\n\u001b[0;32m--> 181\u001b[0;31m         \u001b[0mnewline\u001b[0m\u001b[0;34m=\u001b[0m\u001b[0mnewline\u001b[0m\u001b[0;34m,\u001b[0m\u001b[0;34m\u001b[0m\u001b[0;34m\u001b[0m\u001b[0m\n\u001b[0m\u001b[1;32m    182\u001b[0m     )\n\u001b[1;32m    183\u001b[0m     \u001b[0;32mif\u001b[0m \u001b[0mfobj\u001b[0m \u001b[0;32mis\u001b[0m \u001b[0;32mnot\u001b[0m \u001b[0;32mNone\u001b[0m\u001b[0;34m:\u001b[0m\u001b[0;34m\u001b[0m\u001b[0;34m\u001b[0m\u001b[0m\n",
      "\u001b[0;32m/opt/conda/lib/python3.7/site-packages/smart_open/smart_open_lib.py\u001b[0m in \u001b[0;36m_shortcut_open\u001b[0;34m(uri, mode, ignore_ext, buffering, encoding, errors, newline)\u001b[0m\n\u001b[1;32m    344\u001b[0m         \u001b[0mopen_kwargs\u001b[0m\u001b[0;34m[\u001b[0m\u001b[0;34m'errors'\u001b[0m\u001b[0;34m]\u001b[0m \u001b[0;34m=\u001b[0m \u001b[0merrors\u001b[0m\u001b[0;34m\u001b[0m\u001b[0;34m\u001b[0m\u001b[0m\n\u001b[1;32m    345\u001b[0m \u001b[0;34m\u001b[0m\u001b[0m\n\u001b[0;32m--> 346\u001b[0;31m     \u001b[0;32mreturn\u001b[0m \u001b[0m_builtin_open\u001b[0m\u001b[0;34m(\u001b[0m\u001b[0mlocal_path\u001b[0m\u001b[0;34m,\u001b[0m \u001b[0mmode\u001b[0m\u001b[0;34m,\u001b[0m \u001b[0mbuffering\u001b[0m\u001b[0;34m=\u001b[0m\u001b[0mbuffering\u001b[0m\u001b[0;34m,\u001b[0m \u001b[0;34m**\u001b[0m\u001b[0mopen_kwargs\u001b[0m\u001b[0;34m)\u001b[0m\u001b[0;34m\u001b[0m\u001b[0;34m\u001b[0m\u001b[0m\n\u001b[0m\u001b[1;32m    347\u001b[0m \u001b[0;34m\u001b[0m\u001b[0m\n\u001b[1;32m    348\u001b[0m \u001b[0;34m\u001b[0m\u001b[0m\n",
      "\u001b[0;31mFileNotFoundError\u001b[0m: [Errno 2] No such file or directory: 'glove.6B.100d.w2vformat.txt'"
     ]
    }
   ],
   "source": [
    "from gensim.models.keyedvectors import KeyedVectors\n",
    "glove_model = KeyedVectors.load_word2vec_format(\"glove.6B.100d.w2vformat.txt\", binary=False)"
   ]
  },
  {
   "cell_type": "markdown",
   "id": "divided-maria",
   "metadata": {
    "papermill": {
     "duration": 0.066623,
     "end_time": "2021-06-24T16:44:47.971575",
     "exception": false,
     "start_time": "2021-06-24T16:44:47.904952",
     "status": "completed"
    },
    "tags": []
   },
   "source": [
    "#### Now you can use all the methods you used with word2vec models"
   ]
  },
  {
   "cell_type": "code",
   "execution_count": 42,
   "id": "ordinary-masters",
   "metadata": {
    "execution": {
     "iopub.execute_input": "2021-06-24T16:44:48.107932Z",
     "iopub.status.busy": "2021-06-24T16:44:48.107202Z",
     "iopub.status.idle": "2021-06-24T16:44:48.124287Z",
     "shell.execute_reply": "2021-06-24T16:44:48.123748Z"
    },
    "papermill": {
     "duration": 0.085788,
     "end_time": "2021-06-24T16:44:48.124457",
     "exception": false,
     "start_time": "2021-06-24T16:44:48.038669",
     "status": "completed"
    },
    "tags": []
   },
   "outputs": [
    {
     "ename": "NameError",
     "evalue": "name 'glove_model' is not defined",
     "output_type": "error",
     "traceback": [
      "\u001b[0;31m---------------------------------------------------------------------------\u001b[0m",
      "\u001b[0;31mNameError\u001b[0m                                 Traceback (most recent call last)",
      "\u001b[0;32m<ipython-input-42-15d75a4af7b7>\u001b[0m in \u001b[0;36m<module>\u001b[0;34m\u001b[0m\n\u001b[0;32m----> 1\u001b[0;31m \u001b[0mglove_model\u001b[0m\u001b[0;34m.\u001b[0m\u001b[0mmost_similar\u001b[0m\u001b[0;34m(\u001b[0m\u001b[0;34m\"king\"\u001b[0m\u001b[0;34m)\u001b[0m\u001b[0;34m\u001b[0m\u001b[0;34m\u001b[0m\u001b[0m\n\u001b[0m",
      "\u001b[0;31mNameError\u001b[0m: name 'glove_model' is not defined"
     ]
    }
   ],
   "source": [
    "glove_model.most_similar(\"king\")"
   ]
  },
  {
   "cell_type": "code",
   "execution_count": 43,
   "id": "amateur-sacramento",
   "metadata": {
    "execution": {
     "iopub.execute_input": "2021-06-24T16:44:48.262096Z",
     "iopub.status.busy": "2021-06-24T16:44:48.261339Z",
     "iopub.status.idle": "2021-06-24T16:44:48.276342Z",
     "shell.execute_reply": "2021-06-24T16:44:48.277063Z"
    },
    "papermill": {
     "duration": 0.086148,
     "end_time": "2021-06-24T16:44:48.277279",
     "exception": false,
     "start_time": "2021-06-24T16:44:48.191131",
     "status": "completed"
    },
    "tags": []
   },
   "outputs": [
    {
     "ename": "NameError",
     "evalue": "name 'glove_model' is not defined",
     "output_type": "error",
     "traceback": [
      "\u001b[0;31m---------------------------------------------------------------------------\u001b[0m",
      "\u001b[0;31mNameError\u001b[0m                                 Traceback (most recent call last)",
      "\u001b[0;32m<ipython-input-43-dd9fea125e1d>\u001b[0m in \u001b[0;36m<module>\u001b[0;34m\u001b[0m\n\u001b[0;32m----> 1\u001b[0;31m \u001b[0mglove_model\u001b[0m\u001b[0;34m.\u001b[0m\u001b[0mmost_similar\u001b[0m\u001b[0;34m(\u001b[0m\u001b[0mpositive\u001b[0m\u001b[0;34m=\u001b[0m\u001b[0;34m[\u001b[0m\u001b[0;34m'woman'\u001b[0m\u001b[0;34m,\u001b[0m \u001b[0;34m'king'\u001b[0m\u001b[0;34m]\u001b[0m\u001b[0;34m,\u001b[0m \u001b[0mnegative\u001b[0m\u001b[0;34m=\u001b[0m\u001b[0;34m[\u001b[0m\u001b[0;34m'man'\u001b[0m\u001b[0;34m]\u001b[0m\u001b[0;34m,\u001b[0m \u001b[0mtopn\u001b[0m\u001b[0;34m=\u001b[0m\u001b[0;36m5\u001b[0m\u001b[0;34m)\u001b[0m\u001b[0;34m\u001b[0m\u001b[0;34m\u001b[0m\u001b[0m\n\u001b[0m",
      "\u001b[0;31mNameError\u001b[0m: name 'glove_model' is not defined"
     ]
    }
   ],
   "source": [
    "glove_model.most_similar(positive=['woman', 'king'], negative=['man'], topn=5)"
   ]
  },
  {
   "cell_type": "code",
   "execution_count": 44,
   "id": "ruled-macintosh",
   "metadata": {
    "execution": {
     "iopub.execute_input": "2021-06-24T16:44:48.414873Z",
     "iopub.status.busy": "2021-06-24T16:44:48.414194Z",
     "iopub.status.idle": "2021-06-24T16:44:48.431292Z",
     "shell.execute_reply": "2021-06-24T16:44:48.431913Z"
    },
    "papermill": {
     "duration": 0.085449,
     "end_time": "2021-06-24T16:44:48.432107",
     "exception": false,
     "start_time": "2021-06-24T16:44:48.346658",
     "status": "completed"
    },
    "tags": []
   },
   "outputs": [
    {
     "ename": "NameError",
     "evalue": "name 'glove_model' is not defined",
     "output_type": "error",
     "traceback": [
      "\u001b[0;31m---------------------------------------------------------------------------\u001b[0m",
      "\u001b[0;31mNameError\u001b[0m                                 Traceback (most recent call last)",
      "\u001b[0;32m<ipython-input-44-42346b001f75>\u001b[0m in \u001b[0;36m<module>\u001b[0;34m\u001b[0m\n\u001b[0;32m----> 1\u001b[0;31m \u001b[0mglove_model\u001b[0m\u001b[0;34m.\u001b[0m\u001b[0mmost_similar\u001b[0m\u001b[0;34m(\u001b[0m\u001b[0mpositive\u001b[0m\u001b[0;34m=\u001b[0m\u001b[0;34m[\u001b[0m\u001b[0;34m'woman'\u001b[0m\u001b[0;34m,\u001b[0m \u001b[0;34m'hero'\u001b[0m\u001b[0;34m]\u001b[0m\u001b[0;34m,\u001b[0m \u001b[0mnegative\u001b[0m\u001b[0;34m=\u001b[0m\u001b[0;34m[\u001b[0m\u001b[0;34m'man'\u001b[0m\u001b[0;34m]\u001b[0m\u001b[0;34m,\u001b[0m \u001b[0mtopn\u001b[0m\u001b[0;34m=\u001b[0m\u001b[0;36m5\u001b[0m\u001b[0;34m)\u001b[0m\u001b[0;34m\u001b[0m\u001b[0;34m\u001b[0m\u001b[0m\n\u001b[0m",
      "\u001b[0;31mNameError\u001b[0m: name 'glove_model' is not defined"
     ]
    }
   ],
   "source": [
    "glove_model.most_similar(positive=['woman', 'hero'], negative=['man'], topn=5)"
   ]
  }
 ],
 "metadata": {
  "kernelspec": {
   "display_name": "Python 3",
   "language": "python",
   "name": "python3"
  },
  "language_info": {
   "codemirror_mode": {
    "name": "ipython",
    "version": 3
   },
   "file_extension": ".py",
   "mimetype": "text/x-python",
   "name": "python",
   "nbconvert_exporter": "python",
   "pygments_lexer": "ipython3",
   "version": "3.7.9"
  },
  "papermill": {
   "default_parameters": {},
   "duration": 280.028658,
   "end_time": "2021-06-24T16:44:50.257552",
   "environment_variables": {},
   "exception": null,
   "input_path": "__notebook__.ipynb",
   "output_path": "__notebook__.ipynb",
   "parameters": {},
   "start_time": "2021-06-24T16:40:10.228894",
   "version": "2.3.2"
  }
 },
 "nbformat": 4,
 "nbformat_minor": 5
}
